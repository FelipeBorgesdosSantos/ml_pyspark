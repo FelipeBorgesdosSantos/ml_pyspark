{
 "cells": [
  {
   "cell_type": "markdown",
   "id": "ab5209a7",
   "metadata": {},
   "source": [
    "# Ajuste de Hiper Parâmetros:\n",
    "\n",
    "- Spark facilita o teste de diferentes hiper parâmetros\n",
    "- você pode testar diferentes configurações de todo o pipeline\n",
    "- ParamGridBuilder: configura quais parâmetros e quais domínios quer testar\n",
    "- Utiliza cross-validation ou train-validation split"
   ]
  },
  {
   "cell_type": "markdown",
   "id": "edf8d59b",
   "metadata": {},
   "source": [
    "# Cross-Validation:\n",
    "- É uma técnica de tuning de hiper parâmetros\n",
    "- Divide os dados de treino em partições (folds) que são usadas para treino (2/3 dos dados) e \n",
    "teste (1/3 dos dados)\n",
    "- Qtd partições = Qtd conjunto de treino = Qtd conjunto de teste\n",
    "- Partições são treinadas e testadas nos domínios do grid de hiper parâmetros fornecido\n",
    "- Quando encontrar o melhor conjunto de hiper parâmetros, ele novamente recria o modelo\n",
    "usando todos os dados de treino"
   ]
  },
  {
   "cell_type": "markdown",
   "id": "3aa59fdd",
   "metadata": {},
   "source": [
    "# Train-Validation Split:\n",
    "\n",
    "- Testa cada configuração do grid de hiper parâmetros uma única vez\n",
    "- trainingrati define a proporção usada para treino e teste\n",
    "- Quando encontrar o melhor conjunto de hiper parâmetros, ele novamente recria o modelo\n",
    "usando todos os dados de treino"
   ]
  },
  {
   "cell_type": "markdown",
   "id": "520e72cf",
   "metadata": {},
   "source": [
    "# Comparativo:\n",
    "![title](CrossValid_TrainValid.png) "
   ]
  },
  {
   "cell_type": "code",
   "execution_count": 1,
   "id": "07976fa1",
   "metadata": {},
   "outputs": [],
   "source": [
    "import findspark, pyspark\n",
    "from pyspark.sql import SparkSession\n",
    "findspark.init()\n",
    "spark = SparkSession.builder.appName(\"TunningTrain\").getOrCreate()"
   ]
  },
  {
   "cell_type": "code",
   "execution_count": 2,
   "id": "669172a5",
   "metadata": {},
   "outputs": [],
   "source": [
    "iris = spark.read.csv(\"iris.csv\", header=True, inferSchema=True, sep=\",\")\n",
    "irisTreino, irisTeste = iris.randomSplit([0.7,0.3])"
   ]
  },
  {
   "cell_type": "code",
   "execution_count": 3,
   "id": "d6d82a14",
   "metadata": {},
   "outputs": [],
   "source": [
    "from pyspark.ml.feature import VectorAssembler\n",
    "vector = VectorAssembler (inputCols=[\"sepallength\",\"sepalwidth\",\"petallength\",\"petalwidth\"], \n",
    "                          outputCol = \"independente\")"
   ]
  },
  {
   "cell_type": "code",
   "execution_count": 4,
   "id": "14d47d54",
   "metadata": {},
   "outputs": [],
   "source": [
    "from pyspark.ml.feature import StringIndexer\n",
    "indexer = StringIndexer(inputCol=\"class\", outputCol=\"label\")"
   ]
  },
  {
   "cell_type": "code",
   "execution_count": 5,
   "id": "0129b2ef",
   "metadata": {},
   "outputs": [],
   "source": [
    "from pyspark.ml.classification import MultilayerPerceptronClassifier\n",
    "mlp = MultilayerPerceptronClassifier(maxIter=100, layers=[4,5,4,3], featuresCol=\"independente\",\n",
    "                                    labelCol=\"label\")"
   ]
  },
  {
   "cell_type": "code",
   "execution_count": 6,
   "id": "9b7633d7",
   "metadata": {},
   "outputs": [],
   "source": [
    "from pyspark.ml import Pipeline\n",
    "pipeline = Pipeline(stages=[vector, indexer, mlp])"
   ]
  },
  {
   "cell_type": "code",
   "execution_count": 8,
   "id": "c3def8a4",
   "metadata": {},
   "outputs": [],
   "source": [
    "from pyspark.ml.tuning import TrainValidationSplit, ParamGridBuilder\n",
    "from pyspark.ml.evaluation import MulticlassClassificationEvaluator\n",
    "performance = MulticlassClassificationEvaluator(labelCol=\"label\", metricName=\"accuracy\")\n",
    "grid = ParamGridBuilder().addGrid(mlp.maxIter,[10,100,1000]).addGrid(mlp.layers,[[4,5,4,3],[4,4,3]]).build()\n",
    "trainval = TrainValidationSplit(estimator=pipeline,estimatorParamMaps=grid, evaluator=performance,\n",
    "                         trainRatio=0.8)"
   ]
  },
  {
   "cell_type": "code",
   "execution_count": 10,
   "id": "9fd6c29f",
   "metadata": {},
   "outputs": [],
   "source": [
    "modelo = trainval.fit(irisTreino)"
   ]
  },
  {
   "cell_type": "code",
   "execution_count": 11,
   "id": "fa567607",
   "metadata": {},
   "outputs": [
    {
     "name": "stdout",
     "output_type": "stream",
     "text": [
      "+--------------------+--------------------+----------+-----+\n",
      "|       rawprediction|         probability|prediction|label|\n",
      "+--------------------+--------------------+----------+-----+\n",
      "|[9.81516203619439...|[0.99996792649168...|       0.0|  0.0|\n",
      "|[9.76460118723611...|[0.99996590401996...|       0.0|  0.0|\n",
      "|[9.78052668579353...|[0.99996655421834...|       0.0|  0.0|\n",
      "|[9.79471211484377...|[0.99996712302200...|       0.0|  0.0|\n",
      "|[9.80158829408027...|[0.99996739537577...|       0.0|  0.0|\n",
      "|[9.73985045227198...|[0.99996486723146...|       0.0|  0.0|\n",
      "|[9.81079540378062...|[0.99996775640033...|       0.0|  0.0|\n",
      "|[9.82030800135405...|[0.99996812530159...|       0.0|  0.0|\n",
      "|[1.60997042417048...|[0.61241910641459...|       0.0|  2.0|\n",
      "|[9.81126324333367...|[0.99996777461702...|       0.0|  0.0|\n",
      "|[9.81864233420977...|[0.99996806099927...|       0.0|  0.0|\n",
      "|[9.81720004802964...|[0.99996800522710...|       0.0|  0.0|\n",
      "|[9.81949433254978...|[0.99996809390757...|       0.0|  0.0|\n",
      "|[9.81551267338560...|[0.99996793983583...|       0.0|  0.0|\n",
      "|[-4.2279926621191...|[0.00184006583218...|       2.0|  2.0|\n",
      "|[-9.0710103417394...|[7.90457334553866...|       1.0|  1.0|\n",
      "|[-5.5640253669796...|[3.76220811398075...|       2.0|  2.0|\n",
      "|[9.81630461495887...|[0.99996797048761...|       0.0|  0.0|\n",
      "|[-2.5570118219649...|[0.01202785821000...|       2.0|  2.0|\n",
      "|[-3.4117168554522...|[0.00438383319389...|       2.0|  2.0|\n",
      "+--------------------+--------------------+----------+-----+\n",
      "only showing top 20 rows\n",
      "\n"
     ]
    }
   ],
   "source": [
    "previsao = modelo.transform(irisTeste)\n",
    "previsao.select(\"rawprediction\",\"probability\",\"prediction\",\"label\").show()"
   ]
  },
  {
   "cell_type": "code",
   "execution_count": 12,
   "id": "a177e7e2",
   "metadata": {},
   "outputs": [
    {
     "name": "stdout",
     "output_type": "stream",
     "text": [
      "0.9565217391304348\n"
     ]
    }
   ],
   "source": [
    "performance = MulticlassClassificationEvaluator(labelCol=\"label\",predictionCol=\"prediction\", \n",
    "                                                metricName=\"accuracy\")\n",
    "acuracia = performance.evaluate(previsao)\n",
    "print(acuracia)"
   ]
  },
  {
   "cell_type": "code",
   "execution_count": null,
   "id": "ef4ff8ab",
   "metadata": {},
   "outputs": [],
   "source": [
    "# Tentativa de extrair quais foram os melhores hiperparâmetros do Grid:"
   ]
  },
  {
   "cell_type": "code",
   "execution_count": 101,
   "id": "bf0f4e47",
   "metadata": {},
   "outputs": [],
   "source": [
    "melhormodelo = modelo.bestModel"
   ]
  },
  {
   "cell_type": "code",
   "execution_count": 62,
   "id": "e1d15d1a",
   "metadata": {},
   "outputs": [
    {
     "name": "stdout",
     "output_type": "stream",
     "text": [
      "['__abstractmethods__', '__class__', '__class_getitem__', '__delattr__', '__dict__', '__dir__', '__doc__', '__eq__', '__format__', '__ge__', '__getattribute__', '__gt__', '__hash__', '__init__', '__init_subclass__', '__le__', '__lt__', '__module__', '__ne__', '__new__', '__orig_bases__', '__parameters__', '__reduce__', '__reduce_ex__', '__repr__', '__setattr__', '__sizeof__', '__slots__', '__str__', '__subclasshook__', '__weakref__', '_abc_impl', '_copyValues', '_copy_params', '_defaultParamMap', '_dummy', '_from_java', '_is_protocol', '_paramMap', '_params', '_randomUID', '_resetUid', '_resolveParam', '_set', '_setDefault', '_shouldOwn', '_testOwnParam', '_to_java', '_transform', 'clear', 'copy', 'explainParam', 'explainParams', 'extractParamMap', 'getOrDefault', 'getParam', 'hasDefault', 'hasParam', 'isDefined', 'isSet', 'load', 'params', 'read', 'save', 'set', 'stages', 'transform', 'uid', 'write']\n"
     ]
    }
   ],
   "source": [
    "#Printa atributos de um objeto:\n",
    "print(dir(melhormodelo))"
   ]
  },
  {
   "cell_type": "code",
   "execution_count": 102,
   "id": "48e29a44",
   "metadata": {},
   "outputs": [
    {
     "name": "stdout",
     "output_type": "stream",
     "text": [
      "['$', '$anonfun$setThresholds$1', '$anonfun$transform$1', '$anonfun$transform$2', '$anonfun$transform$2$adapted', '$anonfun$transform$3', '$anonfun$transform$3$adapted', '$anonfun$transform$4', '$anonfun$transform$5', '$anonfun$transform$5$adapted', '$anonfun$transform$6', '$anonfun$transform$6$adapted', '$anonfun$transform$7', '$anonfun$transform$7$adapted', '$anonfun$transform$8', '$anonfun$transformImpl$1', '$anonfun$transformImpl$1$adapted', '$anonfun$transformSchema$1', '$anonfun$transformSchema$2', 'blockSize', 'clear', 'copy', 'copyValues', 'copyValues$default$2', 'defaultCopy', 'defaultParamMap', 'equals', 'evaluate', 'explainParam', 'explainParams', 'extractParamMap', 'featuresCol', 'featuresDataType', 'findSummaryModel', 'get', 'getBlockSize', 'getClass', 'getDefault', 'getFeaturesCol', 'getInitialWeights', 'getLabelCol', 'getLayers', 'getMaxIter', 'getOrDefault', 'getParam', 'getPredictionCol', 'getProbabilityCol', 'getRawPredictionCol', 'getSeed', 'getSolver', 'getStepSize', 'getThresholds', 'getTol', 'getmaxIterParam', 'hasDefault', 'hasParam', 'hasParent', 'hasSummary', 'hashCode', 'initialWeights', 'initializeForcefully', 'initializeLogIfNecessary', 'initializeLogIfNecessary$default$2', 'isDefined', 'isSet', 'isTraceEnabled', 'labelCol', 'layers', 'load', 'log', 'logDebug', 'logError', 'logInfo', 'logName', 'logTrace', 'logWarning', 'maxIter', 'maxIterParam', 'mlpModel', 'normalizeToProbabilitiesInPlace', 'notify', 'notifyAll', 'numClasses', 'numFeatures', 'onParamChange', 'org$apache$spark$internal$Logging$$log_', 'org$apache$spark$internal$Logging$$log__$eq', 'org$apache$spark$ml$classification$ClassifierParams$$super$validateAndTransformSchema', 'org$apache$spark$ml$classification$MultilayerPerceptronParams$_setter_$initialWeights_$eq', 'org$apache$spark$ml$classification$MultilayerPerceptronParams$_setter_$layers_$eq', 'org$apache$spark$ml$classification$MultilayerPerceptronParams$_setter_$solver_$eq', 'org$apache$spark$ml$classification$ProbabilisticClassifierParams$$super$validateAndTransformSchema', 'org$apache$spark$ml$param$Params$_setter_$defaultParamMap_$eq', 'org$apache$spark$ml$param$Params$_setter_$paramMap_$eq', 'org$apache$spark$ml$param$shared$HasBlockSize$_setter_$blockSize_$eq', 'org$apache$spark$ml$param$shared$HasFeaturesCol$_setter_$featuresCol_$eq', 'org$apache$spark$ml$param$shared$HasLabelCol$_setter_$labelCol_$eq', 'org$apache$spark$ml$param$shared$HasMaxIter$_setter_$maxIter_$eq', 'org$apache$spark$ml$param$shared$HasPredictionCol$_setter_$predictionCol_$eq', 'org$apache$spark$ml$param$shared$HasProbabilityCol$_setter_$probabilityCol_$eq', 'org$apache$spark$ml$param$shared$HasRawPredictionCol$_setter_$rawPredictionCol_$eq', 'org$apache$spark$ml$param$shared$HasSeed$_setter_$seed_$eq', 'org$apache$spark$ml$param$shared$HasSolver$_setter_$solver_$eq', 'org$apache$spark$ml$param$shared$HasStepSize$_setter_$stepSize_$eq', 'org$apache$spark$ml$param$shared$HasThresholds$_setter_$thresholds_$eq', 'org$apache$spark$ml$param$shared$HasTol$_setter_$tol_$eq', 'paramMap', 'params', 'parent', 'parent_$eq', 'predict', 'predictProbability', 'predictRaw', 'predictionCol', 'probability2prediction', 'probabilityCol', 'raw2prediction', 'raw2probability', 'raw2probabilityInPlace', 'rawPredictionCol', 'read', 'save', 'seed', 'set', 'setDefault', 'setFeaturesCol', 'setParent', 'setPredictionCol', 'setProbabilityCol', 'setRawPredictionCol', 'setSummary', 'setThresholds', 'solver', 'stepSize', 'summary', 'thresholds', 'toString', 'tol', 'trainingSummary', 'trainingSummary_$eq', 'transform', 'transformImpl', 'transformSchema', 'uid', 'validateAndTransformSchema', 'wait', 'weights', 'write']\n"
     ]
    }
   ],
   "source": [
    "print(dir(melhormodelo.stages[-1]._java_obj))"
   ]
  },
  {
   "cell_type": "code",
   "execution_count": 105,
   "id": "0a7dea31",
   "metadata": {},
   "outputs": [
    {
     "name": "stdout",
     "output_type": "stream",
     "text": [
      "<py4j.java_gateway.JavaMember object at 0x0000023CC6B76FD0>\n"
     ]
    }
   ],
   "source": [
    "print(melhormodelo.stages[1]._java_obj.getMaxIter)"
   ]
  },
  {
   "cell_type": "code",
   "execution_count": 106,
   "id": "268981c6",
   "metadata": {},
   "outputs": [
    {
     "name": "stdout",
     "output_type": "stream",
     "text": [
      "<py4j.java_gateway.JavaMember object at 0x0000023CC6B43E80>\n"
     ]
    }
   ],
   "source": [
    "print(melhormodelo.stages[1]._java_obj.maxIterParam)"
   ]
  },
  {
   "cell_type": "code",
   "execution_count": 107,
   "id": "7d63d91b",
   "metadata": {},
   "outputs": [
    {
     "name": "stdout",
     "output_type": "stream",
     "text": [
      "<class 'py4j.java_gateway.JavaMember'>\n"
     ]
    }
   ],
   "source": [
    "print(type(melhormodelo.stages[1]._java_obj.getMaxIter))"
   ]
  },
  {
   "cell_type": "code",
   "execution_count": 111,
   "id": "fde2c19c",
   "metadata": {},
   "outputs": [
    {
     "name": "stdout",
     "output_type": "stream",
     "text": [
      "getMaxIter\n"
     ]
    }
   ],
   "source": [
    "print(melhormodelo.stages[1]._java_obj.getMaxIter.name)"
   ]
  },
  {
   "cell_type": "code",
   "execution_count": 113,
   "id": "7e6292de",
   "metadata": {},
   "outputs": [
    {
     "name": "stdout",
     "output_type": "stream",
     "text": [
      "<method-wrapper '__getattribute__' of JavaMember object at 0x0000023CC6B76FD0>\n"
     ]
    }
   ],
   "source": [
    "print(melhormodelo.stages[1]._java_obj.getMaxIter.__getattribute__)"
   ]
  },
  {
   "cell_type": "code",
   "execution_count": 112,
   "id": "6ab2cea2",
   "metadata": {},
   "outputs": [
    {
     "name": "stdout",
     "output_type": "stream",
     "text": [
      "['__call__', '__class__', '__delattr__', '__dir__', '__doc__', '__eq__', '__format__', '__ge__', '__getattribute__', '__gt__', '__hash__', '__init__', '__init_subclass__', '__le__', '__lt__', '__name__', '__ne__', '__new__', '__objclass__', '__qualname__', '__reduce__', '__reduce_ex__', '__repr__', '__self__', '__setattr__', '__sizeof__', '__str__', '__subclasshook__', '__text_signature__']\n"
     ]
    }
   ],
   "source": [
    "print(dir(melhormodelo.stages[1]._java_obj.getMaxIter.__getattribute__))"
   ]
  }
 ],
 "metadata": {
  "kernelspec": {
   "display_name": "Python 3 (ipykernel)",
   "language": "python",
   "name": "python3"
  },
  "language_info": {
   "codemirror_mode": {
    "name": "ipython",
    "version": 3
   },
   "file_extension": ".py",
   "mimetype": "text/x-python",
   "name": "python",
   "nbconvert_exporter": "python",
   "pygments_lexer": "ipython3",
   "version": "3.9.7"
  }
 },
 "nbformat": 4,
 "nbformat_minor": 5
}
