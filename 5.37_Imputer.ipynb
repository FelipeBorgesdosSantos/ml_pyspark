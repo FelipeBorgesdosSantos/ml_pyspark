{
 "cells": [
  {
   "cell_type": "markdown",
   "id": "8e2ac079",
   "metadata": {},
   "source": [
    "# Imputer:\n",
    "\n",
    "- substitui valores ausentes\n",
    "- deve se escolher estratégia de substituição (média, mediana ou moda)\n",
    "- pode substituir qualquer outro valor, por exemplo: \"0\" > utilizar parâmetro \n",
    "setMissingValue = <valor a ser substituído)\n",
    "- só funciona para valores numéricos"
   ]
  },
  {
   "cell_type": "code",
   "execution_count": 5,
   "id": "afd9c128",
   "metadata": {},
   "outputs": [],
   "source": [
    "#imports\n",
    "\n",
    "import findspark, pyspark\n",
    "from pyspark.sql import SparkSession\n",
    "findspark.init() # inicializa interface pyspark jupyter\n",
    "spark = SparkSession.builder.appName(\"imputer\").getOrCreate()\n",
    "#inicializa sessão no spark com nome importação"
   ]
  },
  {
   "cell_type": "code",
   "execution_count": 6,
   "id": "5b25b228",
   "metadata": {},
   "outputs": [],
   "source": [
    "from pyspark.ml.feature import Imputer"
   ]
  },
  {
   "cell_type": "code",
   "execution_count": 7,
   "id": "21c811ab",
   "metadata": {},
   "outputs": [],
   "source": [
    "carros = spark.read.csv(\"CarrosNAN.csv\", header=True, inferSchema=True, sep=\";\")"
   ]
  },
  {
   "cell_type": "code",
   "execution_count": 8,
   "id": "8bb2463a",
   "metadata": {},
   "outputs": [
    {
     "name": "stdout",
     "output_type": "stream",
     "text": [
      "+-------+---------+-----------+---------------+----+-----+---------+-----------+-------+-----------+---+\n",
      "|Consumo|Cilindros|Cilindradas|RelEixoTraseiro|Peso|Tempo|TipoMotor|Transmissao|Marchas|Carburadors| HP|\n",
      "+-------+---------+-----------+---------------+----+-----+---------+-----------+-------+-----------+---+\n",
      "|     21|        6|        160|             39| 262| 1646|        0|          1|      4|          4|110|\n",
      "|     21|        6|       null|             39|2875| null|        0|          1|      4|          4|110|\n",
      "|    228|        0|        108|            385| 232| 1861|        1|          1|      4|          1| 93|\n",
      "|    214|        0|       null|            308|3215| 1944|        1|          0|      3|          1|110|\n",
      "|    187|        0|        360|            315|null| 1702|        0|          0|      3|          2|175|\n",
      "|    181|        6|        225|            276| 346| null|        1|          0|      3|          1|105|\n",
      "|    143|        8|        360|            321| 357| 1584|        0|          0|      3|          4|245|\n",
      "|    244|        4|       1467|            369| 319|   20|        1|          0|      4|          2| 62|\n",
      "|    228|        4|       1408|            392| 315|  229|        1|          0|      4|          2| 95|\n",
      "|    192|        0|       1676|            392| 344|  183|        1|          0|      4|          4|123|\n",
      "|    178|        6|       1676|            392|null|  189|        1|          0|      4|          4|123|\n",
      "|    164|        8|       2758|            307| 407|  174|        0|          0|      3|          3|180|\n",
      "|    173|        8|       2758|            307| 373|  176|        0|          0|      3|          3|180|\n",
      "|    152|        8|       2758|            307| 378|   18|        0|          0|      3|          3|180|\n",
      "|    104|        8|        472|            293| 525| 1798|        0|          0|      3|          4|205|\n",
      "|    104|        8|       null|              3|5424| 1782|        0|          0|      3|          4|215|\n",
      "|    147|        8|        440|            323|5345| 1742|        0|          0|      3|          4|230|\n",
      "|    324|        4|        787|            408|  22| 1947|        1|          1|      4|          1| 66|\n",
      "|    304|        4|        757|            493|1615| 1852|        1|          1|      4|          2| 52|\n",
      "|    339|        4|        711|            422|1835|  199|        1|          1|      4|          1| 65|\n",
      "+-------+---------+-----------+---------------+----+-----+---------+-----------+-------+-----------+---+\n",
      "only showing top 20 rows\n",
      "\n"
     ]
    }
   ],
   "source": [
    "#Identificação de nulos\n",
    "carros.show()"
   ]
  },
  {
   "cell_type": "code",
   "execution_count": 11,
   "id": "d7aaa32a",
   "metadata": {},
   "outputs": [
    {
     "name": "stdout",
     "output_type": "stream",
     "text": [
      "+---------------+--------+\n",
      "|novaCilindradas|novaPeso|\n",
      "+---------------+--------+\n",
      "|            160|     262|\n",
      "|            848|    2875|\n",
      "|            108|     232|\n",
      "|            848|    3215|\n",
      "|            360|    1318|\n",
      "|            225|     346|\n",
      "|            360|     357|\n",
      "|           1467|     319|\n",
      "|           1408|     315|\n",
      "|           1676|     344|\n",
      "|           1676|    1318|\n",
      "|           2758|     407|\n",
      "|           2758|     373|\n",
      "|           2758|     378|\n",
      "|            472|     525|\n",
      "|            848|    5424|\n",
      "|            440|    5345|\n",
      "|            787|      22|\n",
      "|            757|    1615|\n",
      "|            711|    1835|\n",
      "+---------------+--------+\n",
      "only showing top 20 rows\n",
      "\n"
     ]
    }
   ],
   "source": [
    "#Estratégia default = média (para substituição)\n",
    "imput = Imputer(inputCols=[\"Cilindradas\", \"Peso\"], outputCols=[\"novaCilindradas\", \"novaPeso\"])\n",
    "modelo = imput.fit(carros)\n",
    "carros = modelo.transform(carros)\n",
    "carros.select(\"novaCilindradas\", \"novaPeso\").show()"
   ]
  },
  {
   "cell_type": "code",
   "execution_count": 14,
   "id": "80980145",
   "metadata": {},
   "outputs": [
    {
     "name": "stdout",
     "output_type": "stream",
     "text": [
      "+---------+-------------+\n",
      "|Cilindros|novaCilindros|\n",
      "+---------+-------------+\n",
      "|        6|            6|\n",
      "|        6|            6|\n",
      "|        0|            6|\n",
      "|        0|            6|\n",
      "|        0|            6|\n",
      "|        6|            6|\n",
      "|        8|            8|\n",
      "|        4|            4|\n",
      "|        4|            4|\n",
      "|        0|            6|\n",
      "|        6|            6|\n",
      "|        8|            8|\n",
      "|        8|            8|\n",
      "|        8|            8|\n",
      "|        8|            8|\n",
      "|        8|            8|\n",
      "|        8|            8|\n",
      "|        4|            4|\n",
      "|        4|            4|\n",
      "|        4|            4|\n",
      "+---------+-------------+\n",
      "only showing top 20 rows\n",
      "\n"
     ]
    }
   ],
   "source": [
    "# Estratégia de substituir pela mediana: (0>mediana(6))\n",
    "imput = Imputer(inputCols=[\"Cilindros\"], outputCols=[\"novaCilindros\"])\n",
    "imput.setStrategy(\"median\").setMissingValue(0).fit(carros).transform(carros).select(\"Cilindros\",\"novaCilindros\").show()"
   ]
  }
 ],
 "metadata": {
  "kernelspec": {
   "display_name": "Python 3 (ipykernel)",
   "language": "python",
   "name": "python3"
  },
  "language_info": {
   "codemirror_mode": {
    "name": "ipython",
    "version": 3
   },
   "file_extension": ".py",
   "mimetype": "text/x-python",
   "name": "python",
   "nbconvert_exporter": "python",
   "pygments_lexer": "ipython3",
   "version": "3.9.7"
  }
 },
 "nbformat": 4,
 "nbformat_minor": 5
}
