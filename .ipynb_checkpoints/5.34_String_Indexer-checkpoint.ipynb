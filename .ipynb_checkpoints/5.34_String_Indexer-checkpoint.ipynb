{
 "cells": [
  {
   "cell_type": "markdown",
   "id": "3e650974",
   "metadata": {},
   "source": [
    "# 5.34_StringIndexer\n",
    "- transforma dados categóricos em números\n",
    "(algortimos de ML n conseguem lidar com dados categóricos, necemssário transformar em numérico)\n",
    "- itens mais frequentes recebem números menores\n"
   ]
  },
  {
   "cell_type": "code",
   "execution_count": 2,
   "id": "fb452fe1",
   "metadata": {},
   "outputs": [],
   "source": [
    "#imports\n",
    "\n",
    "import findspark, pyspark\n",
    "from pyspark.sql import SparkSession\n",
    "findspark.init() # inicializa interface pyspark jupyter\n",
    "spark = SparkSession.builder.appName(\"binarizacao\").getOrCreate()\n",
    "#inicializa sessão no spark com nome importação"
   ]
  },
  {
   "cell_type": "code",
   "execution_count": 4,
   "id": "a2df406d",
   "metadata": {},
   "outputs": [],
   "source": [
    "from pyspark.ml.feature import StringIndexer"
   ]
  },
  {
   "cell_type": "code",
   "execution_count": 11,
   "id": "f178cd01",
   "metadata": {},
   "outputs": [
    {
     "name": "stdout",
     "output_type": "stream",
     "text": [
      "+-----------+---------+------+---+------+--------+-------------+---------+--------------+---------------+------+\n",
      "|CreditScore|Geography|Gender|Age|Tenure| Balance|NumOfProducts|HasCrCard|IsActiveMember|EstimatedSalary|Exited|\n",
      "+-----------+---------+------+---+------+--------+-------------+---------+--------------+---------------+------+\n",
      "|        619|   France|Female| 42|     2|       0|            1|        1|             1|       10134888|     1|\n",
      "|        608|    Spain|Female| 41|     1| 8380786|            1|        0|             1|       11254258|     0|\n",
      "|        502|   France|Female| 42|     8| 1596608|            3|        1|             0|       11393157|     1|\n",
      "|        699|   France|Female| 39|     1|       0|            2|        0|             0|        9382663|     0|\n",
      "|        850|    Spain|Female| 43|     2|12551082|            1|        1|             1|         790841|     0|\n",
      "+-----------+---------+------+---+------+--------+-------------+---------+--------------+---------------+------+\n",
      "only showing top 5 rows\n",
      "\n"
     ]
    }
   ],
   "source": [
    "churn = spark.read.load(\"Churn.csv\", format=\"csv\", sep=\";\", inferSchema=True, header = True)\n",
    "churn.show(5)"
   ]
  },
  {
   "cell_type": "code",
   "execution_count": 13,
   "id": "647dc17b",
   "metadata": {},
   "outputs": [
    {
     "name": "stdout",
     "output_type": "stream",
     "text": [
      "+---------+------+\n",
      "|Geography|indice|\n",
      "+---------+------+\n",
      "|   France|   0.0|\n",
      "|    Spain|   2.0|\n",
      "|   France|   0.0|\n",
      "|   France|   0.0|\n",
      "|    Spain|   2.0|\n",
      "|    Spain|   2.0|\n",
      "|   France|   0.0|\n",
      "|  Germany|   1.0|\n",
      "|   France|   0.0|\n",
      "|   France|   0.0|\n",
      "+---------+------+\n",
      "only showing top 10 rows\n",
      "\n"
     ]
    }
   ],
   "source": [
    "# Transformando a coluna Geography:\n",
    "indice = StringIndexer(inputCol =\"Geography\" , outputCol =\"indice\" ) #(instancia objeto indice)\n",
    "modelo = indice.fit(churn)\n",
    "dadoscomindice = modelo.transform(churn)\n",
    "dadoscomindice.select(\"Geography\", \"indice\").show(10)"
   ]
  }
 ],
 "metadata": {
  "kernelspec": {
   "display_name": "Python 3 (ipykernel)",
   "language": "python",
   "name": "python3"
  },
  "language_info": {
   "codemirror_mode": {
    "name": "ipython",
    "version": 3
   },
   "file_extension": ".py",
   "mimetype": "text/x-python",
   "name": "python",
   "nbconvert_exporter": "python",
   "pygments_lexer": "ipython3",
   "version": "3.9.7"
  }
 },
 "nbformat": 4,
 "nbformat_minor": 5
}
