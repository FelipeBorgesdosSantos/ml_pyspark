{
 "cells": [
  {
   "cell_type": "markdown",
   "id": "e143a653",
   "metadata": {},
   "source": [
    "# Binarizer:\n",
    "- técnica tradicional de transformação de dados, que transforma atributos contínuos em binários (V/F) \n",
    "ou (S/N)\n",
    "- atributo transformado deve ser do tipo double\n",
    "- \">\"\" threshold = 1 (contrário, 0)\n",
    "<br>\n",
    "- Exemplo: Notas (5 = threshold) <br>\n",
    "\">5\": Aprovado <br>\n",
    "\"<5\" : Reprovado"
   ]
  },
  {
   "cell_type": "code",
   "execution_count": 4,
   "id": "a6e971b7",
   "metadata": {},
   "outputs": [],
   "source": [
    "#imports\n",
    "\n",
    "import findspark, pyspark\n",
    "from pyspark.sql import SparkSession\n",
    "findspark.init() # inicializa interface pyspark jupyter\n",
    "spark = SparkSession.builder.appName(\"binarizacao\").getOrCreate()\n",
    "#inicializa sessão no spark com nome importação"
   ]
  },
  {
   "cell_type": "code",
   "execution_count": 5,
   "id": "09d04c97",
   "metadata": {},
   "outputs": [],
   "source": [
    "from pyspark.ml.feature import Binarizer"
   ]
  },
  {
   "cell_type": "code",
   "execution_count": 7,
   "id": "531c025f",
   "metadata": {},
   "outputs": [
    {
     "name": "stdout",
     "output_type": "stream",
     "text": [
      "+-----------+----------+-----------+----------+-----------+\n",
      "|sepallength|sepalwidth|petallength|petalwidth|      class|\n",
      "+-----------+----------+-----------+----------+-----------+\n",
      "|        5.1|       3.5|        1.4|       0.2|Iris-setosa|\n",
      "|        4.9|       3.0|        1.4|       0.2|Iris-setosa|\n",
      "|        4.7|       3.2|        1.3|       0.2|Iris-setosa|\n",
      "|        4.6|       3.1|        1.5|       0.2|Iris-setosa|\n",
      "|        5.0|       3.6|        1.4|       0.2|Iris-setosa|\n",
      "+-----------+----------+-----------+----------+-----------+\n",
      "only showing top 5 rows\n",
      "\n"
     ]
    }
   ],
   "source": [
    "# Importando base Iris:\n",
    "iris = spark.read.csv(\"iris.csv\", header=True, inferSchema=True)\n",
    "iris.show(5)"
   ]
  },
  {
   "cell_type": "code",
   "execution_count": 8,
   "id": "4fe0ba63",
   "metadata": {},
   "outputs": [],
   "source": [
    "# instanciando o objeto binarizer: threshold <= então 0 threshold > então 1\n",
    "binarizer = Binarizer(threshold = 5, inputCol=\"sepallength\", outputCol=\"sepallength_bin\")"
   ]
  },
  {
   "cell_type": "code",
   "execution_count": 9,
   "id": "e9b85b9b",
   "metadata": {},
   "outputs": [
    {
     "name": "stdout",
     "output_type": "stream",
     "text": [
      "+-----------+----------+-----------+----------+-----------+---------------+\n",
      "|sepallength|sepalwidth|petallength|petalwidth|      class|sepallength_bin|\n",
      "+-----------+----------+-----------+----------+-----------+---------------+\n",
      "|        5.1|       3.5|        1.4|       0.2|Iris-setosa|            1.0|\n",
      "|        4.9|       3.0|        1.4|       0.2|Iris-setosa|            0.0|\n",
      "|        4.7|       3.2|        1.3|       0.2|Iris-setosa|            0.0|\n",
      "|        4.6|       3.1|        1.5|       0.2|Iris-setosa|            0.0|\n",
      "|        5.0|       3.6|        1.4|       0.2|Iris-setosa|            0.0|\n",
      "|        5.4|       3.9|        1.7|       0.4|Iris-setosa|            1.0|\n",
      "|        4.6|       3.4|        1.4|       0.3|Iris-setosa|            0.0|\n",
      "|        5.0|       3.4|        1.5|       0.2|Iris-setosa|            0.0|\n",
      "|        4.4|       2.9|        1.4|       0.2|Iris-setosa|            0.0|\n",
      "|        4.9|       3.1|        1.5|       0.1|Iris-setosa|            0.0|\n",
      "|        5.4|       3.7|        1.5|       0.2|Iris-setosa|            1.0|\n",
      "|        4.8|       3.4|        1.6|       0.2|Iris-setosa|            0.0|\n",
      "|        4.8|       3.0|        1.4|       0.1|Iris-setosa|            0.0|\n",
      "|        4.3|       3.0|        1.1|       0.1|Iris-setosa|            0.0|\n",
      "|        5.8|       4.0|        1.2|       0.2|Iris-setosa|            1.0|\n",
      "|        5.7|       4.4|        1.5|       0.4|Iris-setosa|            1.0|\n",
      "|        5.4|       3.9|        1.3|       0.4|Iris-setosa|            1.0|\n",
      "|        5.1|       3.5|        1.4|       0.3|Iris-setosa|            1.0|\n",
      "|        5.7|       3.8|        1.7|       0.3|Iris-setosa|            1.0|\n",
      "|        5.1|       3.8|        1.5|       0.3|Iris-setosa|            1.0|\n",
      "+-----------+----------+-----------+----------+-----------+---------------+\n",
      "only showing top 20 rows\n",
      "\n"
     ]
    }
   ],
   "source": [
    "# chama método transform para criar novo df:\n",
    "irisbin = binarizer.transform(iris)\n",
    "irisbin.show()"
   ]
  }
 ],
 "metadata": {
  "kernelspec": {
   "display_name": "Python 3 (ipykernel)",
   "language": "python",
   "name": "python3"
  },
  "language_info": {
   "codemirror_mode": {
    "name": "ipython",
    "version": 3
   },
   "file_extension": ".py",
   "mimetype": "text/x-python",
   "name": "python",
   "nbconvert_exporter": "python",
   "pygments_lexer": "ipython3",
   "version": "3.9.7"
  }
 },
 "nbformat": 4,
 "nbformat_minor": 5
}
