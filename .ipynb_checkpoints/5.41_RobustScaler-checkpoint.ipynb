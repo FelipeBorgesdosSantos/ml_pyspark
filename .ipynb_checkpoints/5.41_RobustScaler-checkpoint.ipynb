{
 "cells": [
  {
   "cell_type": "markdown",
   "id": "3e7b3278",
   "metadata": {},
   "source": [
    "# Robust Scaler:\n",
    "\n",
    "- faz a padronização de acordo com um quantil\n",
    "- performa bem para dados com outliers quando comparado ao StandardScaler\n",
    "- parâmetros:\n",
    "lower = quartil inferior = 0,25 <br>\n",
    "upper = quartil superior = 0,75 <br>\n",
    "withScaling = dimensiona os dados para o quartil (padrão = true) <br>\n",
    "withCentering = centraliza os dados com a mediana antes de transformar (padrão = False) <br>"
   ]
  },
  {
   "cell_type": "code",
   "execution_count": 1,
   "id": "913f0f4e",
   "metadata": {},
   "outputs": [],
   "source": [
    "#imports\n",
    "\n",
    "import findspark, pyspark\n",
    "from pyspark.sql import SparkSession\n",
    "findspark.init() # inicializa interface pyspark jupyter\n",
    "spark = SparkSession.builder.appName(\"robustscaler\").getOrCreate()\n",
    "#inicializa sessão no spark com nome importação"
   ]
  },
  {
   "cell_type": "code",
   "execution_count": 3,
   "id": "68aacf2a",
   "metadata": {},
   "outputs": [
    {
     "name": "stdout",
     "output_type": "stream",
     "text": [
      "+-------+---------+-----------+---------------+----+-----+---------+-----------+-------+-----------+---+\n",
      "|Consumo|Cilindros|Cilindradas|RelEixoTraseiro|Peso|Tempo|TipoMotor|Transmissao|Marchas|Carburadors| HP|\n",
      "+-------+---------+-----------+---------------+----+-----+---------+-----------+-------+-----------+---+\n",
      "|     21|        6|        160|             39| 262| 1646|        0|          1|      4|          4|110|\n",
      "|     21|        6|        160|             39|2875| 1702|        0|          1|      4|          4|110|\n",
      "|    228|        4|        108|            385| 232| 1861|        1|          1|      4|          1| 93|\n",
      "|    214|        6|        258|            308|3215| 1944|        1|          0|      3|          1|110|\n",
      "|    187|        8|        360|            315| 344| 1702|        0|          0|      3|          2|175|\n",
      "+-------+---------+-----------+---------------+----+-----+---------+-----------+-------+-----------+---+\n",
      "only showing top 5 rows\n",
      "\n"
     ]
    }
   ],
   "source": [
    "carros = spark.read.csv(\"Carros.csv\", header=True, inferSchema=True, sep=\";\")\n",
    "carros.show(5)"
   ]
  },
  {
   "cell_type": "code",
   "execution_count": 4,
   "id": "24b1ce55",
   "metadata": {},
   "outputs": [],
   "source": [
    "from pyspark.ml.feature import RobustScaler"
   ]
  },
  {
   "cell_type": "code",
   "execution_count": 6,
   "id": "c0afdfbf",
   "metadata": {},
   "outputs": [
    {
     "name": "stdout",
     "output_type": "stream",
     "text": [
      "+-------+---------+-----------+------------------+\n",
      "|Consumo|Cilindros|Cilindradas|             vetor|\n",
      "+-------+---------+-----------+------------------+\n",
      "|     21|        6|        160|  [21.0,6.0,160.0]|\n",
      "|     21|        6|        160|  [21.0,6.0,160.0]|\n",
      "|    228|        4|        108| [228.0,4.0,108.0]|\n",
      "|    214|        6|        258| [214.0,6.0,258.0]|\n",
      "|    187|        8|        360| [187.0,8.0,360.0]|\n",
      "|    181|        6|        225| [181.0,6.0,225.0]|\n",
      "|    143|        8|        360| [143.0,8.0,360.0]|\n",
      "|    244|        4|       1467|[244.0,4.0,1467.0]|\n",
      "|    228|        4|       1408|[228.0,4.0,1408.0]|\n",
      "|    192|        6|       1676|[192.0,6.0,1676.0]|\n",
      "|    178|        6|       1676|[178.0,6.0,1676.0]|\n",
      "|    164|        8|       2758|[164.0,8.0,2758.0]|\n",
      "|    173|        8|       2758|[173.0,8.0,2758.0]|\n",
      "|    152|        8|       2758|[152.0,8.0,2758.0]|\n",
      "|    104|        8|        472| [104.0,8.0,472.0]|\n",
      "|    104|        8|        460| [104.0,8.0,460.0]|\n",
      "|    147|        8|        440| [147.0,8.0,440.0]|\n",
      "|    324|        4|        787| [324.0,4.0,787.0]|\n",
      "|    304|        4|        757| [304.0,4.0,757.0]|\n",
      "|    339|        4|        711| [339.0,4.0,711.0]|\n",
      "+-------+---------+-----------+------------------+\n",
      "only showing top 20 rows\n",
      "\n"
     ]
    }
   ],
   "source": [
    "# Vector Assembler - Criação de coluna com vetor dos atributos\n",
    "\n",
    "from pyspark.ml.feature import VectorAssembler\n",
    "vecassembler = VectorAssembler(inputCols=[\"Consumo\", \"Cilindros\", \"Cilindradas\"], outputCol=\"vetor\")\n",
    "# transform sempre gera um df\n",
    "carros_vetor = vecassembler.transform(carros)\n",
    "carros_vetor.select(\"Consumo\", \"Cilindros\", \"Cilindradas\",\"vetor\").show()"
   ]
  },
  {
   "cell_type": "code",
   "execution_count": 9,
   "id": "13ad27d9",
   "metadata": {},
   "outputs": [
    {
     "name": "stdout",
     "output_type": "stream",
     "text": [
      "+------------------+---------------------------------------------+\n",
      "|vetor             |vetor_rbst                                   |\n",
      "+------------------+---------------------------------------------+\n",
      "|[21.0,6.0,160.0]  |[0.29166666666666663,1.5,0.16967126193001061]|\n",
      "|[21.0,6.0,160.0]  |[0.29166666666666663,1.5,0.16967126193001061]|\n",
      "|[228.0,4.0,108.0] |[3.1666666666666665,1.0,0.11452810180275717] |\n",
      "|[214.0,6.0,258.0] |[2.972222222222222,1.5,0.27359490986214213]  |\n",
      "|[187.0,8.0,360.0] |[2.597222222222222,2.0,0.3817603393425239]   |\n",
      "|[181.0,6.0,225.0] |[2.513888888888889,1.5,0.23860021208907745]  |\n",
      "|[143.0,8.0,360.0] |[1.986111111111111,2.0,0.3817603393425239]   |\n",
      "|[244.0,4.0,1467.0]|[3.388888888888889,1.0,1.555673382820785]    |\n",
      "|[228.0,4.0,1408.0]|[3.1666666666666665,1.0,1.4931071049840934]  |\n",
      "|[192.0,6.0,1676.0]|[2.6666666666666665,1.5,1.7773064687168612]  |\n",
      "|[178.0,6.0,1676.0]|[2.472222222222222,1.5,1.7773064687168612]   |\n",
      "|[164.0,8.0,2758.0]|[2.2777777777777777,2.0,2.924708377518558]   |\n",
      "|[173.0,8.0,2758.0]|[2.4027777777777777,2.0,2.924708377518558]   |\n",
      "|[152.0,8.0,2758.0]|[2.111111111111111,2.0,2.924708377518558]    |\n",
      "|[104.0,8.0,472.0] |[1.4444444444444444,2.0,0.5005302226935313]  |\n",
      "|[104.0,8.0,460.0] |[1.4444444444444444,2.0,0.48780487804878053] |\n",
      "|[147.0,8.0,440.0] |[2.0416666666666665,2.0,0.4665959703075292]  |\n",
      "|[324.0,4.0,787.0] |[4.5,1.0,0.8345705196182397]                 |\n",
      "|[304.0,4.0,757.0] |[4.222222222222222,1.0,0.8027571580063627]   |\n",
      "|[339.0,4.0,711.0] |[4.708333333333333,1.0,0.7539766702014847]   |\n",
      "+------------------+---------------------------------------------+\n",
      "only showing top 20 rows\n",
      "\n"
     ]
    }
   ],
   "source": [
    "robuster = RobustScaler(inputCol=\"vetor\", outputCol=\"vetor_rbst\",withScaling=True, withCentering=False,\n",
    "                       lower=0.25, upper=0.75)\n",
    "modelo = robuster.fit(carros_vetor)\n",
    "carros_rbst = modelo.transform(carros_vetor)\n",
    "carros_rbst.select(\"vetor\",\"vetor_rbst\").show(truncate=False)"
   ]
  }
 ],
 "metadata": {
  "kernelspec": {
   "display_name": "Python 3 (ipykernel)",
   "language": "python",
   "name": "python3"
  },
  "language_info": {
   "codemirror_mode": {
    "name": "ipython",
    "version": 3
   },
   "file_extension": ".py",
   "mimetype": "text/x-python",
   "name": "python",
   "nbconvert_exporter": "python",
   "pygments_lexer": "ipython3",
   "version": "3.9.7"
  }
 },
 "nbformat": 4,
 "nbformat_minor": 5
}
