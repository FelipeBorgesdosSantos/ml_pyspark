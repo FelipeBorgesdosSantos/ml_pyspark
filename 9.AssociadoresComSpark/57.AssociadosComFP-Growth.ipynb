{
 "cells": [
  {
   "cell_type": "code",
   "execution_count": null,
   "id": "b02d65ae",
   "metadata": {},
   "outputs": [],
   "source": [
    "# Associadores:\n",
    "    \n",
    "Ex: mais comum, sistemas de recomendação. qm compra A, geralmente compra B.\n",
    "baseado no que clientes passados parecidos fizeram. "
   ]
  },
  {
   "cell_type": "code",
   "execution_count": null,
   "id": "225a7213",
   "metadata": {},
   "outputs": [],
   "source": [
    "# Conceitos\n",
    "\n",
    "A=>B\n",
    "\n",
    "métricas de associação:\n",
    "- Suporte: número de transações (ocorrências) que contém os elementos comparados. Não adianta os produtos \n",
    "    aparecerem com frequência juntos, se raramente são comprados!\n",
    "- Confiança: indica a proporção de vezes que, em uma transação contendo o elemento A, também tem B. Não \n",
    "    adianta ser muito comprado se dificilmente eles aparecem juntos nas compras (ocorrência). \n",
    "- Lift: o quanto aumenta a frequência de B com a ocorrência de A. confiança/suporte"
   ]
  },
  {
   "cell_type": "code",
   "execution_count": null,
   "id": "1f699c33",
   "metadata": {},
   "outputs": [],
   "source": [
    "# Exemplos:\n",
    "\n",
    "- 1 <br>\n",
    "![title](ex_FPGrowth.png) \n",
    "<br>\n",
    "- 2 <br>\n",
    "![title](ex2_FPGrowth.png) \n",
    "-3 <br>\n",
    "![title](ex3_FPGrowth.png) "
   ]
  }
 ],
 "metadata": {
  "kernelspec": {
   "display_name": "Python 3 (ipykernel)",
   "language": "python",
   "name": "python3"
  },
  "language_info": {
   "codemirror_mode": {
    "name": "ipython",
    "version": 3
   },
   "file_extension": ".py",
   "mimetype": "text/x-python",
   "name": "python",
   "nbconvert_exporter": "python",
   "pygments_lexer": "ipython3",
   "version": "3.9.7"
  }
 },
 "nbformat": 4,
 "nbformat_minor": 5
}
