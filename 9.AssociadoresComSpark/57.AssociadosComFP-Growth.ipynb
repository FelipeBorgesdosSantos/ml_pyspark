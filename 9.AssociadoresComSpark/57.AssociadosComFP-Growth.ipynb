{
 "cells": [
  {
   "cell_type": "code",
   "execution_count": null,
   "id": "a13ae870",
   "metadata": {},
   "outputs": [],
   "source": [
    "# Associadores:\n",
    "    \n",
    "Ex: mais comum, sistemas de recomendação. qm compra A, geralmente compra B.\n",
    "baseado no que clientes passados parecidos fizeram. "
   ]
  },
  {
   "cell_type": "code",
   "execution_count": null,
   "id": "678e1d68",
   "metadata": {},
   "outputs": [],
   "source": [
    "# Conceitos\n",
    "\n",
    "A=>B\n",
    "\n",
    "métricas de associação:\n",
    "- Suporte: número de transações (ocorrências) que contém os elementos comparados. Não adianta os produtos \n",
    "    aparecerem com frequência juntos, se raramente são comprados!\n",
    "- Confiança: indica a proporção de vezes que, em uma transação contendo o elemento A, também tem B. Não \n",
    "    adianta ser muito comprado se dificilmente eles aparecem juntos nas compras (ocorrência). \n",
    "- Lift: o quanto aumenta a frequência de B com a ocorrência de A. confiança/suporte"
   ]
  },
  {
   "cell_type": "markdown",
   "id": "872c5220",
   "metadata": {},
   "source": [
    "# Exemplos:\n",
    "\n",
    "- 1 <br>\n",
    "![title](ex_FPGrowth.png) \n",
    "<br>\n",
    "- 2 <br>\n",
    "![title](ex2_FPGrowth.png) \n",
    "<br>\n",
    "- 3 <br>\n",
    "![title](ex3_FPGrowth.png) "
   ]
  },
  {
   "cell_type": "code",
   "execution_count": null,
   "id": "4ba2ba6b",
   "metadata": {},
   "outputs": [],
   "source": [
    "# Mecanismo:\n",
    "- induz árvores com transações, e busca sobreposição destas árvores onde os itens são frequentes. "
   ]
  },
  {
   "cell_type": "code",
   "execution_count": null,
   "id": "850b8c65",
   "metadata": {},
   "outputs": [],
   "source": [
    "# Hiperparâmetros:\n",
    "- minConfidence: confiança mínima para gerar regra (padrão: 0.8)\n",
    "- minSupport: suporte mínimo para gerar a regra. (padrão:0.3)"
   ]
  },
  {
   "cell_type": "code",
   "execution_count": 2,
   "id": "a2fdf2ca",
   "metadata": {},
   "outputs": [],
   "source": [
    "import findspark, pyspark\n",
    "from pyspark.sql import SparkSession\n",
    "findspark.init()\n",
    "spark = SparkSession.builder.appName(\"hierarchical\").getOrCreate()"
   ]
  },
  {
   "cell_type": "code",
   "execution_count": 1,
   "id": "e871b6d7",
   "metadata": {},
   "outputs": [],
   "source": [
    "from pyspark.ml.fpm import FPGrowth"
   ]
  },
  {
   "cell_type": "code",
   "execution_count": 6,
   "id": "9a7e4bfd",
   "metadata": {},
   "outputs": [
    {
     "name": "stdout",
     "output_type": "stream",
     "text": [
      "+-------------------------+\n",
      "|transacoes               |\n",
      "+-------------------------+\n",
      "|[Cerveja, Pizza, Sorvete]|\n",
      "|[Pizza, Sorvete]         |\n",
      "|[Cerveja, Pizza]         |\n",
      "|[Cerveja, Pizza, Sorvete]|\n",
      "|[Cerveja, Pizza]         |\n",
      "|[Pizza]                  |\n",
      "+-------------------------+\n",
      "\n"
     ]
    }
   ],
   "source": [
    "from pyspark.sql.functions import split\n",
    "transacoes = spark.read.text(\"Transacoes.txt\").select(split(\"value\",\"\\s+\").alias(\"transacoes\"))\n",
    "transacoes.show(truncate=False)"
   ]
  },
  {
   "cell_type": "code",
   "execution_count": 9,
   "id": "7d3b7f0d",
   "metadata": {},
   "outputs": [
    {
     "name": "stderr",
     "output_type": "stream",
     "text": [
      "Exception ignored in: <function JavaWrapper.__del__ at 0x00000155F6BB0940>\n",
      "Traceback (most recent call last):\n",
      "  File \"C:\\Users\\felip\\anaconda3\\lib\\site-packages\\pyspark\\ml\\wrapper.py\", line 53, in __del__\n",
      "    if SparkContext._active_spark_context and self._java_obj is not None:\n",
      "AttributeError: 'FPGrowth' object has no attribute '_java_obj'\n"
     ]
    },
    {
     "name": "stdout",
     "output_type": "stream",
     "text": [
      "+----------------+----+\n",
      "|           items|freq|\n",
      "+----------------+----+\n",
      "|       [Sorvete]|   3|\n",
      "|[Sorvete, Pizza]|   3|\n",
      "|       [Cerveja]|   4|\n",
      "|[Cerveja, Pizza]|   4|\n",
      "|         [Pizza]|   6|\n",
      "+----------------+----+\n",
      "\n"
     ]
    }
   ],
   "source": [
    "fp = FPGrowth(itemsCol=\"transacoes\", minSupport=0.5, minConfidence=0.5)\n",
    "modelo = fp.fit(transacoes)\n",
    "modelo.freqItemsets.show()"
   ]
  },
  {
   "cell_type": "code",
   "execution_count": 10,
   "id": "f905eb84",
   "metadata": {},
   "outputs": [
    {
     "name": "stdout",
     "output_type": "stream",
     "text": [
      "+----------+----------+------------------+----+------------------+\n",
      "|antecedent|consequent|        confidence|lift|           support|\n",
      "+----------+----------+------------------+----+------------------+\n",
      "| [Cerveja]|   [Pizza]|               1.0| 1.0|0.6666666666666666|\n",
      "| [Sorvete]|   [Pizza]|               1.0| 1.0|               0.5|\n",
      "|   [Pizza]| [Sorvete]|               0.5| 1.0|               0.5|\n",
      "|   [Pizza]| [Cerveja]|0.6666666666666666| 1.0|0.6666666666666666|\n",
      "+----------+----------+------------------+----+------------------+\n",
      "\n"
     ]
    }
   ],
   "source": [
    "modelo.associationRules.show()"
   ]
  },
  {
   "cell_type": "code",
   "execution_count": 11,
   "id": "54846ca4",
   "metadata": {},
   "outputs": [
    {
     "name": "stdout",
     "output_type": "stream",
     "text": [
      "+-------------------------+------------------+\n",
      "|transacoes               |prediction        |\n",
      "+-------------------------+------------------+\n",
      "|[Cerveja, Pizza, Sorvete]|[]                |\n",
      "|[Pizza, Sorvete]         |[Cerveja]         |\n",
      "|[Cerveja, Pizza]         |[Sorvete]         |\n",
      "|[Cerveja, Pizza, Sorvete]|[]                |\n",
      "|[Cerveja, Pizza]         |[Sorvete]         |\n",
      "|[Pizza]                  |[Sorvete, Cerveja]|\n",
      "+-------------------------+------------------+\n",
      "\n"
     ]
    }
   ],
   "source": [
    "# Baseado no que a pessoa comprou, prevê o que ela pode levar:\n",
    "modelo.transform(transacoes).show(truncate=False)"
   ]
  }
 ],
 "metadata": {
  "kernelspec": {
   "display_name": "Python 3 (ipykernel)",
   "language": "python",
   "name": "python3"
  },
  "language_info": {
   "codemirror_mode": {
    "name": "ipython",
    "version": 3
   },
   "file_extension": ".py",
   "mimetype": "text/x-python",
   "name": "python",
   "nbconvert_exporter": "python",
   "pygments_lexer": "ipython3",
   "version": "3.9.7"
  }
 },
 "nbformat": 4,
 "nbformat_minor": 5
}
