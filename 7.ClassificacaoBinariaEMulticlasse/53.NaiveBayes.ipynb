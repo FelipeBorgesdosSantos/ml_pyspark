{
 "cells": [
  {
   "cell_type": "markdown",
   "id": "0673becc",
   "metadata": {},
   "source": [
    "# Classificação com NaiveBayes:\n",
    "\n",
    "- modela atributo sobre a classe de forma independente, ie como se um atributo n influenciasse outro\n",
    "- é extremamente performático (leve), e bastante eficiente apesar da condição acima"
   ]
  },
  {
   "cell_type": "markdown",
   "id": "16c198a0",
   "metadata": {},
   "source": [
    "# Hiper Parâmetros:\n",
    "\n",
    "- modelType: multinomial (default), bernoulli ouy gaussian. "
   ]
  },
  {
   "cell_type": "code",
   "execution_count": 2,
   "id": "73b9341a",
   "metadata": {},
   "outputs": [],
   "source": [
    "import findspark, pyspark\n",
    "from pyspark.sql import SparkSession\n",
    "findspark.init()\n",
    "spark = SparkSession.builder.appName(\"naive\").getOrCreate()"
   ]
  },
  {
   "cell_type": "code",
   "execution_count": 5,
   "id": "9bf31ad9",
   "metadata": {},
   "outputs": [
    {
     "name": "stdout",
     "output_type": "stream",
     "text": [
      "+-----------+----------+-----------+----------+-----------+\n",
      "|sepallength|sepalwidth|petallength|petalwidth|      class|\n",
      "+-----------+----------+-----------+----------+-----------+\n",
      "|        5.1|       3.5|        1.4|       0.2|Iris-setosa|\n",
      "|        4.9|       3.0|        1.4|       0.2|Iris-setosa|\n",
      "|        4.7|       3.2|        1.3|       0.2|Iris-setosa|\n",
      "|        4.6|       3.1|        1.5|       0.2|Iris-setosa|\n",
      "|        5.0|       3.6|        1.4|       0.2|Iris-setosa|\n",
      "+-----------+----------+-----------+----------+-----------+\n",
      "only showing top 5 rows\n",
      "\n",
      "150\n"
     ]
    }
   ],
   "source": [
    "iris = spark.read.csv(\"iris.csv\", header=True, inferSchema=True, sep=\",\")\n",
    "iris.show(5)\n",
    "print(iris.count())"
   ]
  },
  {
   "cell_type": "code",
   "execution_count": 6,
   "id": "fa4e2249",
   "metadata": {},
   "outputs": [
    {
     "name": "stdout",
     "output_type": "stream",
     "text": [
      "+-----------------+----------+\n",
      "|     independente|dependente|\n",
      "+-----------------+----------+\n",
      "|[5.1,3.5,1.4,0.2]|       0.0|\n",
      "|[4.9,3.0,1.4,0.2]|       0.0|\n",
      "|[4.7,3.2,1.3,0.2]|       0.0|\n",
      "|[4.6,3.1,1.5,0.2]|       0.0|\n",
      "|[5.0,3.6,1.4,0.2]|       0.0|\n",
      "+-----------------+----------+\n",
      "only showing top 5 rows\n",
      "\n"
     ]
    }
   ],
   "source": [
    "from pyspark.ml.feature import RFormula\n",
    "Rformula = RFormula(formula=\"class ~ .\", featuresCol=\"independente\", labelCol=\"dependente\")\n",
    "irisrf = Rformula.fit(iris).transform(iris)\n",
    "irisrf.select(\"independente\",\"dependente\").show(5)\n",
    "# Categorical encoding realizado na label (resposta = y): iris-setosa=0"
   ]
  },
  {
   "cell_type": "code",
   "execution_count": 7,
   "id": "b65c9a6c",
   "metadata": {},
   "outputs": [
    {
     "name": "stdout",
     "output_type": "stream",
     "text": [
      "106\n",
      "44\n"
     ]
    }
   ],
   "source": [
    "irisTreino, irisTeste = irisrf.randomSplit([0.7,0.3])\n",
    "print(irisTreino.count())\n",
    "print(irisTeste.count())"
   ]
  },
  {
   "cell_type": "code",
   "execution_count": 8,
   "id": "d5f6335b",
   "metadata": {},
   "outputs": [],
   "source": [
    "from pyspark.ml.classification import NaiveBayes\n",
    "naive = NaiveBayes(smoothing=1.0, modelType=\"multinomial\", featuresCol=\"independente\", labelCol=\"dependente\")\n",
    "modelo = naive.fit(irisTreino)"
   ]
  },
  {
   "cell_type": "code",
   "execution_count": 9,
   "id": "c78e2e56",
   "metadata": {},
   "outputs": [
    {
     "name": "stdout",
     "output_type": "stream",
     "text": [
      "+----------+----------+\n",
      "|dependente|prediction|\n",
      "+----------+----------+\n",
      "|       0.0|       0.0|\n",
      "|       0.0|       0.0|\n",
      "|       0.0|       0.0|\n",
      "|       1.0|       1.0|\n",
      "|       0.0|       0.0|\n",
      "|       0.0|       0.0|\n",
      "|       1.0|       1.0|\n",
      "|       0.0|       0.0|\n",
      "|       0.0|       0.0|\n",
      "|       0.0|       0.0|\n",
      "|       1.0|       1.0|\n",
      "|       0.0|       0.0|\n",
      "|       0.0|       0.0|\n",
      "|       1.0|       2.0|\n",
      "|       0.0|       0.0|\n",
      "|       0.0|       0.0|\n",
      "|       1.0|       2.0|\n",
      "|       0.0|       0.0|\n",
      "|       0.0|       0.0|\n",
      "|       0.0|       0.0|\n",
      "+----------+----------+\n",
      "only showing top 20 rows\n",
      "\n"
     ]
    }
   ],
   "source": [
    "previsao = modelo.transform(irisTeste)\n",
    "previsao.select(\"dependente\",\"prediction\").show(20)"
   ]
  },
  {
   "cell_type": "code",
   "execution_count": 14,
   "id": "30704a3f",
   "metadata": {},
   "outputs": [
    {
     "name": "stdout",
     "output_type": "stream",
     "text": [
      "0.8863636363636364\n"
     ]
    }
   ],
   "source": [
    "from pyspark.ml.evaluation import MulticlassClassificationEvaluator\n",
    "performance = MulticlassClassificationEvaluator(labelCol=\"dependente\", predictionCol=\"prediction\", \n",
    "                                                metricName=\"accuracy\")\n",
    "acuracia = performance.evaluate(previsao)\n",
    "print(acuracia)"
   ]
  }
 ],
 "metadata": {
  "kernelspec": {
   "display_name": "Python 3 (ipykernel)",
   "language": "python",
   "name": "python3"
  },
  "language_info": {
   "codemirror_mode": {
    "name": "ipython",
    "version": 3
   },
   "file_extension": ".py",
   "mimetype": "text/x-python",
   "name": "python",
   "nbconvert_exporter": "python",
   "pygments_lexer": "ipython3",
   "version": "3.9.7"
  }
 },
 "nbformat": 4,
 "nbformat_minor": 5
}
