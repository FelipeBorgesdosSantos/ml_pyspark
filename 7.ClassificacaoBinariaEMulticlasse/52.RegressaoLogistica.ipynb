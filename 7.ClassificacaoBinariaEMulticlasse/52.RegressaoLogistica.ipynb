{
 "cells": [
  {
   "cell_type": "markdown",
   "id": "bf1a698e",
   "metadata": {},
   "source": [
    "# Regressão Logística\n",
    "\n",
    "- output de previsão binário: classificação de 0 ou 1 (podendo mostrar a probabilidade associada)\n",
    "- n variáveis dependentes contínuas ou discretas"
   ]
  },
  {
   "cell_type": "markdown",
   "id": "f0041484",
   "metadata": {},
   "source": [
    "# Hiper Parâmetros:\n",
    "\n",
    "- link: função de link utilizada (identity, log, inverse, logit, probit, gloglog e sqrt)\n",
    "- maxIter: número máximo de iterações no treinamento do modelo. (default= 100)\n",
    "- regParam: valor de regularização (default= 0)"
   ]
  },
  {
   "cell_type": "code",
   "execution_count": 5,
   "id": "5cf310ec",
   "metadata": {},
   "outputs": [],
   "source": [
    "import findspark, pyspark\n",
    "from pyspark.sql import SparkSession\n",
    "findspark.init()\n",
    "spark = SparkSession.builder.appName(\"logistic\").getOrCreate()"
   ]
  },
  {
   "cell_type": "code",
   "execution_count": 8,
   "id": "784dec07",
   "metadata": {},
   "outputs": [
    {
     "name": "stdout",
     "output_type": "stream",
     "text": [
      "+-----------+---------+------+---+------+--------+-------------+---------+--------------+---------------+------+\n",
      "|CreditScore|Geography|Gender|Age|Tenure| Balance|NumOfProducts|HasCrCard|IsActiveMember|EstimatedSalary|Exited|\n",
      "+-----------+---------+------+---+------+--------+-------------+---------+--------------+---------------+------+\n",
      "|        619|   France|Female| 42|     2|       0|            1|        1|             1|       10134888|     1|\n",
      "|        608|    Spain|Female| 41|     1| 8380786|            1|        0|             1|       11254258|     0|\n",
      "|        502|   France|Female| 42|     8| 1596608|            3|        1|             0|       11393157|     1|\n",
      "|        699|   France|Female| 39|     1|       0|            2|        0|             0|        9382663|     0|\n",
      "|        850|    Spain|Female| 43|     2|12551082|            1|        1|             1|         790841|     0|\n",
      "+-----------+---------+------+---+------+--------+-------------+---------+--------------+---------------+------+\n",
      "only showing top 5 rows\n",
      "\n"
     ]
    }
   ],
   "source": [
    "churn = spark.read.csv(\"Churn.csv\", header=True, inferSchema=True, sep=\";\")\n",
    "churn.show(5)"
   ]
  },
  {
   "cell_type": "code",
   "execution_count": 11,
   "id": "87e92f4f",
   "metadata": {},
   "outputs": [
    {
     "name": "stdout",
     "output_type": "stream",
     "text": [
      "+--------------------------------------------------------------+----------+\n",
      "|independente                                                  |dependente|\n",
      "+--------------------------------------------------------------+----------+\n",
      "|[619.0,1.0,0.0,0.0,42.0,2.0,0.0,1.0,1.0,1.0,1.0134888E7]      |1.0       |\n",
      "|[608.0,0.0,0.0,0.0,41.0,1.0,8380786.0,1.0,0.0,1.0,1.1254258E7]|0.0       |\n",
      "|[502.0,1.0,0.0,0.0,42.0,8.0,1596608.0,3.0,1.0,0.0,1.1393157E7]|1.0       |\n",
      "|(11,[0,1,4,5,7,10],[699.0,1.0,39.0,1.0,2.0,9382663.0])        |0.0       |\n",
      "|[850.0,0.0,0.0,0.0,43.0,2.0,1.2551082E7,1.0,1.0,1.0,790841.0] |0.0       |\n",
      "+--------------------------------------------------------------+----------+\n",
      "only showing top 5 rows\n",
      "\n"
     ]
    }
   ],
   "source": [
    "from pyspark.ml.feature import RFormula\n",
    "Rformula = RFormula(formula=\"Exited ~ . \", featuresCol=\"independente\", labelCol = \"dependente\")\n",
    "churnrf = Rformula.fit(churn).transform(churn)\n",
    "churnrf.select(\"independente\",\"dependente\").show(5, truncate=False)"
   ]
  },
  {
   "cell_type": "code",
   "execution_count": 13,
   "id": "60cec9f7",
   "metadata": {},
   "outputs": [
    {
     "name": "stdout",
     "output_type": "stream",
     "text": [
      "7973\n",
      "2027\n"
     ]
    }
   ],
   "source": [
    "churnTreino, churnTeste = churnrf.randomSplit([0.8,0.2])\n",
    "print(churnTreino.count())\n",
    "print(churnTeste.count())"
   ]
  },
  {
   "cell_type": "code",
   "execution_count": 17,
   "id": "67ea5fba",
   "metadata": {},
   "outputs": [],
   "source": [
    "from pyspark.ml.classification import LogisticRegression\n",
    "logistic = LogisticRegression(featuresCol=\"independente\", labelCol=\"dependente\", maxIter=100, \n",
    "                              regParam=0.08)\n",
    "modelo = logistic.fit(churnTreino)"
   ]
  },
  {
   "cell_type": "code",
   "execution_count": 20,
   "id": "a816b669",
   "metadata": {},
   "outputs": [
    {
     "name": "stdout",
     "output_type": "stream",
     "text": [
      "Acurácia:  0.8039633763953342 \n",
      "Precisão:  0.7809395481971331 \n",
      "Recall:  0.8039633763953342 \n",
      "AUC:  0.7680852537190221\n"
     ]
    }
   ],
   "source": [
    "# Performance do modelo:\n",
    "\n",
    "resumo = modelo.summary\n",
    "\n",
    "acuracia = resumo.accuracy\n",
    "precisao = resumo.weightedPrecision\n",
    "recall = resumo.weightedRecall\n",
    "auc = resumo.areaUnderROC\n",
    "\n",
    "print(\"Acurácia: \", acuracia, \"\\nPrecisão: \", precisao, \"\\nRecall: \", recall, \"\\nAUC: \", auc) \n"
   ]
  },
  {
   "cell_type": "code",
   "execution_count": 21,
   "id": "d4df418c",
   "metadata": {},
   "outputs": [
    {
     "name": "stdout",
     "output_type": "stream",
     "text": [
      "+----------+----------+----------------------------------------+------------------------------------------+\n",
      "|dependente|prediction|probability                             |rawPrediction                             |\n",
      "+----------+----------+----------------------------------------+------------------------------------------+\n",
      "|1.0       |0.0       |[0.8116905268216125,0.18830947317838753]|[1.4610323995471814,-1.4610323995471814]  |\n",
      "|1.0       |0.0       |[0.7029842805360632,0.2970157194639368] |[0.8615494661244314,-0.8615494661244314]  |\n",
      "|1.0       |0.0       |[0.6044330395877536,0.39556696041224637]|[0.42397081540959736,-0.42397081540959736]|\n",
      "|1.0       |0.0       |[0.8182261450260968,0.1817738549739032] |[1.5043753999298666,-1.5043753999298666]  |\n",
      "|1.0       |0.0       |[0.8813287607247073,0.11867123927529266]|[2.0050737493445867,-2.0050737493445867]  |\n",
      "+----------+----------+----------------------------------------+------------------------------------------+\n",
      "only showing top 5 rows\n",
      "\n"
     ]
    }
   ],
   "source": [
    "previsao = modelo.transform(churnTeste)\n",
    "previsao.select(\"dependente\",\"prediction\",\"probability\",\"rawPrediction\").show(5, truncate=False)\n",
    "# rawPrediction: medida da confiança da previsão "
   ]
  },
  {
   "cell_type": "code",
   "execution_count": 26,
   "id": "c074c3be",
   "metadata": {},
   "outputs": [
    {
     "name": "stdout",
     "output_type": "stream",
     "text": [
      "0.7578062413926573\n"
     ]
    }
   ],
   "source": [
    "# Avaliador de classificação binária:\n",
    "from pyspark.ml.evaluation import BinaryClassificationEvaluator\n",
    "avaliar = BinaryClassificationEvaluator(rawPredictionCol=\"rawPrediction\", labelCol=\"dependente\", \n",
    "                                        metricName= \"areaUnderROC\")\n",
    "areaUnderRoc = avaliar.evaluate(previsao)\n",
    "print(areaUnderRoc)"
   ]
  }
 ],
 "metadata": {
  "kernelspec": {
   "display_name": "Python 3 (ipykernel)",
   "language": "python",
   "name": "python3"
  },
  "language_info": {
   "codemirror_mode": {
    "name": "ipython",
    "version": 3
   },
   "file_extension": ".py",
   "mimetype": "text/x-python",
   "name": "python",
   "nbconvert_exporter": "python",
   "pygments_lexer": "ipython3",
   "version": "3.9.7"
  }
 },
 "nbformat": 4,
 "nbformat_minor": 5
}
