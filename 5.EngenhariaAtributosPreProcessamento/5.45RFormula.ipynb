{
 "cells": [
  {
   "cell_type": "markdown",
   "id": "00c414f1",
   "metadata": {},
   "source": [
    "# RFormula:\n",
    "\n",
    "- Linguagem R permite definir modelo através de fórmula com o padrão: <br>\n",
    "    var dependente ~ vars independentes\n",
    "- variáveis independentes podem ser definidas através de \"+\" (qdo houver mais de uma)\n",
    "- \".\" define todos os atributos, menos variável dependente\n",
    "- Spark implementa Rformula (Combina vars independentes em uma únicao coluna)\n",
    "    1. Colunas numéricas são transformadas em double\n",
    "    2. Strings serão transformadas com String Indexer, e a última categoria é excluída e então aplica\n",
    "    One Hot Encoding\n",
    "\n",
    "Exemplo 1: HP ~ Consumo + Cilindros + Cilindradas\n",
    "regressão para determinação de HP em função das dependentes ccc\n",
    "\n",
    "Exemplo 2: HP ~ . \n",
    "regressão para determinação de HP em função de todas outras variáveis que são as independentes"
   ]
  },
  {
   "cell_type": "code",
   "execution_count": 1,
   "id": "e0190138",
   "metadata": {},
   "outputs": [],
   "source": [
    "#imports\n",
    "\n",
    "import findspark, pyspark\n",
    "from pyspark.sql import SparkSession\n",
    "findspark.init() # inicializa interface pyspark jupyter\n",
    "spark = SparkSession.builder.appName(\"RFormula\").getOrCreate()\n",
    "#inicializa sessão no spark com nome importação"
   ]
  },
  {
   "cell_type": "code",
   "execution_count": 2,
   "id": "a943d795",
   "metadata": {},
   "outputs": [],
   "source": [
    "from pyspark.ml.feature import RFormula"
   ]
  },
  {
   "cell_type": "code",
   "execution_count": 3,
   "id": "e32d5abd",
   "metadata": {},
   "outputs": [
    {
     "name": "stdout",
     "output_type": "stream",
     "text": [
      "+-------+---------+-----------+---------------+----+-----+---------+-----------+-------+-----------+---+\n",
      "|Consumo|Cilindros|Cilindradas|RelEixoTraseiro|Peso|Tempo|TipoMotor|Transmissao|Marchas|Carburadors| HP|\n",
      "+-------+---------+-----------+---------------+----+-----+---------+-----------+-------+-----------+---+\n",
      "|     21|        6|        160|             39| 262| 1646|        0|          1|      4|          4|110|\n",
      "|     21|        6|        160|             39|2875| 1702|        0|          1|      4|          4|110|\n",
      "|    228|        4|        108|            385| 232| 1861|        1|          1|      4|          1| 93|\n",
      "|    214|        6|        258|            308|3215| 1944|        1|          0|      3|          1|110|\n",
      "|    187|        8|        360|            315| 344| 1702|        0|          0|      3|          2|175|\n",
      "+-------+---------+-----------+---------------+----+-----+---------+-----------+-------+-----------+---+\n",
      "only showing top 5 rows\n",
      "\n"
     ]
    }
   ],
   "source": [
    "carros = spark.read.csv(\"Carros.csv\", inferSchema = True, header=True,sep=\";\")\n",
    "carros.show(5)"
   ]
  },
  {
   "cell_type": "code",
   "execution_count": 7,
   "id": "33dd2550",
   "metadata": {},
   "outputs": [
    {
     "name": "stdout",
     "output_type": "stream",
     "text": [
      "+------------------+----------+\n",
      "|      independente|dependente|\n",
      "+------------------+----------+\n",
      "|  [21.0,6.0,160.0]|     110.0|\n",
      "|  [21.0,6.0,160.0]|     110.0|\n",
      "| [228.0,4.0,108.0]|      93.0|\n",
      "| [214.0,6.0,258.0]|     110.0|\n",
      "| [187.0,8.0,360.0]|     175.0|\n",
      "| [181.0,6.0,225.0]|     105.0|\n",
      "| [143.0,8.0,360.0]|     245.0|\n",
      "|[244.0,4.0,1467.0]|      62.0|\n",
      "|[228.0,4.0,1408.0]|      95.0|\n",
      "|[192.0,6.0,1676.0]|     123.0|\n",
      "|[178.0,6.0,1676.0]|     123.0|\n",
      "|[164.0,8.0,2758.0]|     180.0|\n",
      "|[173.0,8.0,2758.0]|     180.0|\n",
      "|[152.0,8.0,2758.0]|     180.0|\n",
      "| [104.0,8.0,472.0]|     205.0|\n",
      "| [104.0,8.0,460.0]|     215.0|\n",
      "| [147.0,8.0,440.0]|     230.0|\n",
      "| [324.0,4.0,787.0]|      66.0|\n",
      "| [304.0,4.0,757.0]|      52.0|\n",
      "| [339.0,4.0,711.0]|      65.0|\n",
      "+------------------+----------+\n",
      "only showing top 20 rows\n",
      "\n"
     ]
    }
   ],
   "source": [
    "Rformula= RFormula(formula = \"HP ~ Consumo + Cilindros + Cilindradas\",  featuresCol = \"independente\", labelCol=\"dependente\")\n",
    "carrosrf = Rformula.fit(carros).transform(carros)\n",
    "carrosrf.select(\"independente\",\"dependente\").show()"
   ]
  },
  {
   "cell_type": "code",
   "execution_count": 8,
   "id": "cdeeb4b4",
   "metadata": {},
   "outputs": [
    {
     "name": "stdout",
     "output_type": "stream",
     "text": [
      "root\n",
      " |-- Consumo: integer (nullable = true)\n",
      " |-- Cilindros: integer (nullable = true)\n",
      " |-- Cilindradas: integer (nullable = true)\n",
      " |-- RelEixoTraseiro: integer (nullable = true)\n",
      " |-- Peso: integer (nullable = true)\n",
      " |-- Tempo: integer (nullable = true)\n",
      " |-- TipoMotor: integer (nullable = true)\n",
      " |-- Transmissao: integer (nullable = true)\n",
      " |-- Marchas: integer (nullable = true)\n",
      " |-- Carburadors: integer (nullable = true)\n",
      " |-- HP: integer (nullable = true)\n",
      "\n"
     ]
    }
   ],
   "source": [
    "carros.printSchema()"
   ]
  }
 ],
 "metadata": {
  "kernelspec": {
   "display_name": "Python 3 (ipykernel)",
   "language": "python",
   "name": "python3"
  },
  "language_info": {
   "codemirror_mode": {
    "name": "ipython",
    "version": 3
   },
   "file_extension": ".py",
   "mimetype": "text/x-python",
   "name": "python",
   "nbconvert_exporter": "python",
   "pygments_lexer": "ipython3",
   "version": "3.9.7"
  }
 },
 "nbformat": 4,
 "nbformat_minor": 5
}
