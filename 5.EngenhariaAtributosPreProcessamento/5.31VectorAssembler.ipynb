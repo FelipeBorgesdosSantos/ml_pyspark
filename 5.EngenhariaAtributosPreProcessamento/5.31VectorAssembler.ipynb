{
 "cells": [
  {
   "cell_type": "code",
   "execution_count": 1,
   "id": "03aaf207",
   "metadata": {},
   "outputs": [],
   "source": [
    "#imports\n",
    "\n",
    "import findspark, pyspark\n",
    "from pyspark.sql import SparkSession\n",
    "findspark.init() # inicializa interface pyspark jupyter\n",
    "spark = SparkSession.builder.appName(\"vector_assembler\").getOrCreate()\n",
    "#inicializa sessão no spark com nome importação"
   ]
  },
  {
   "cell_type": "markdown",
   "id": "3012b393",
   "metadata": {},
   "source": [
    "# vector assembler: (vetorização de atributos)\n",
    "\n",
    "# input: df com diversos atributos\n",
    "# output: único atributo que é um vetor dos atributos de entrada. \n",
    "# gera uma matriz densa a partir dos atributos"
   ]
  },
  {
   "cell_type": "code",
   "execution_count": 2,
   "id": "8cdd09c8",
   "metadata": {},
   "outputs": [],
   "source": [
    "from pyspark.ml.feature import VectorAssembler"
   ]
  },
  {
   "cell_type": "code",
   "execution_count": 3,
   "id": "70bd7e49",
   "metadata": {},
   "outputs": [
    {
     "name": "stdout",
     "output_type": "stream",
     "text": [
      "+-------+---------+-----------+---------------+----+-----+---------+-----------+-------+-----------+---+\n",
      "|Consumo|Cilindros|Cilindradas|RelEixoTraseiro|Peso|Tempo|TipoMotor|Transmissao|Marchas|Carburadors| HP|\n",
      "+-------+---------+-----------+---------------+----+-----+---------+-----------+-------+-----------+---+\n",
      "|     21|        6|        160|             39| 262| 1646|        0|          1|      4|          4|110|\n",
      "|     21|        6|        160|             39|2875| 1702|        0|          1|      4|          4|110|\n",
      "|    228|        4|        108|            385| 232| 1861|        1|          1|      4|          1| 93|\n",
      "|    214|        6|        258|            308|3215| 1944|        1|          0|      3|          1|110|\n",
      "|    187|        8|        360|            315| 344| 1702|        0|          0|      3|          2|175|\n",
      "+-------+---------+-----------+---------------+----+-----+---------+-----------+-------+-----------+---+\n",
      "only showing top 5 rows\n",
      "\n"
     ]
    }
   ],
   "source": [
    "carros = spark.read.csv(\"Carros.csv\", header=True, inferSchema=True, sep=\";\")\n",
    "carros.show(5)"
   ]
  },
  {
   "cell_type": "code",
   "execution_count": 4,
   "id": "2936fdeb",
   "metadata": {},
   "outputs": [
    {
     "name": "stdout",
     "output_type": "stream",
     "text": [
      "+-----------------------------------------------------+\n",
      "|caracteristicas                                      |\n",
      "+-----------------------------------------------------+\n",
      "|[21.0,6.0,160.0,39.0,262.0,1646.0,0.0,1.0,4.0,4.0]   |\n",
      "|[21.0,6.0,160.0,39.0,2875.0,1702.0,0.0,1.0,4.0,4.0]  |\n",
      "|[228.0,4.0,108.0,385.0,232.0,1861.0,1.0,1.0,4.0,1.0] |\n",
      "|[214.0,6.0,258.0,308.0,3215.0,1944.0,1.0,0.0,3.0,1.0]|\n",
      "|[187.0,8.0,360.0,315.0,344.0,1702.0,0.0,0.0,3.0,2.0] |\n",
      "|[181.0,6.0,225.0,276.0,346.0,2022.0,1.0,0.0,3.0,1.0] |\n",
      "|[143.0,8.0,360.0,321.0,357.0,1584.0,0.0,0.0,3.0,4.0] |\n",
      "|[244.0,4.0,1467.0,369.0,319.0,20.0,1.0,0.0,4.0,2.0]  |\n",
      "|[228.0,4.0,1408.0,392.0,315.0,229.0,1.0,0.0,4.0,2.0] |\n",
      "|[192.0,6.0,1676.0,392.0,344.0,183.0,1.0,0.0,4.0,4.0] |\n",
      "|[178.0,6.0,1676.0,392.0,344.0,189.0,1.0,0.0,4.0,4.0] |\n",
      "|[164.0,8.0,2758.0,307.0,407.0,174.0,0.0,0.0,3.0,3.0] |\n",
      "|[173.0,8.0,2758.0,307.0,373.0,176.0,0.0,0.0,3.0,3.0] |\n",
      "|[152.0,8.0,2758.0,307.0,378.0,18.0,0.0,0.0,3.0,3.0]  |\n",
      "|[104.0,8.0,472.0,293.0,525.0,1798.0,0.0,0.0,3.0,4.0] |\n",
      "|[104.0,8.0,460.0,3.0,5424.0,1782.0,0.0,0.0,3.0,4.0]  |\n",
      "|[147.0,8.0,440.0,323.0,5345.0,1742.0,0.0,0.0,3.0,4.0]|\n",
      "|[324.0,4.0,787.0,408.0,22.0,1947.0,1.0,1.0,4.0,1.0]  |\n",
      "|[304.0,4.0,757.0,493.0,1615.0,1852.0,1.0,1.0,4.0,2.0]|\n",
      "|[339.0,4.0,711.0,422.0,1835.0,199.0,1.0,1.0,4.0,1.0] |\n",
      "+-----------------------------------------------------+\n",
      "only showing top 20 rows\n",
      "\n"
     ]
    }
   ],
   "source": [
    "#Cria instância do vector assembler (input é a coluna de features com exceção da variável resposta)\n",
    "vectas = VectorAssembler(inputCols=[\"Consumo\", \"Cilindros\", \"Cilindradas\", \"RelEixoTraseiro\",\"Peso\",\"Tempo\",\"TipoMotor\",\"Transmissao\",\"Marchas\",\"Carburadors\"], outputCol = \"caracteristicas\")\n",
    "# transform sempre gera um df, fit serve pra treinar modelos:\n",
    "carros = vectas.transform(carros)\n",
    "carros.select(\"caracteristicas\").show(truncate=False)"
   ]
  }
 ],
 "metadata": {
  "kernelspec": {
   "display_name": "Python 3 (ipykernel)",
   "language": "python",
   "name": "python3"
  },
  "language_info": {
   "codemirror_mode": {
    "name": "ipython",
    "version": 3
   },
   "file_extension": ".py",
   "mimetype": "text/x-python",
   "name": "python",
   "nbconvert_exporter": "python",
   "pygments_lexer": "ipython3",
   "version": "3.9.7"
  }
 },
 "nbformat": 4,
 "nbformat_minor": 5
}
