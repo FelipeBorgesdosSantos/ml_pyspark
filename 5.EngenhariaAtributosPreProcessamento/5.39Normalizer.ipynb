{
 "cells": [
  {
   "cell_type": "markdown",
   "id": "ff4de7da",
   "metadata": {},
   "source": [
    "# Normalizer:\n",
    "\n",
    "- padronizar de dados, traz dados contínuos para uma escala semelhante\n",
    "- padronização a partir de distribuição normal, usando o parâmetro p (default=2)\n",
    "- Input: matriz com vetor de features, Output: matriz com vetor de features normalizadas"
   ]
  },
  {
   "cell_type": "code",
   "execution_count": 2,
   "id": "f456b57f",
   "metadata": {},
   "outputs": [],
   "source": [
    "#imports\n",
    "\n",
    "import findspark, pyspark\n",
    "from pyspark.sql import SparkSession\n",
    "findspark.init() # inicializa interface pyspark jupyter\n",
    "spark = SparkSession.builder.appName(\"normalizer\").getOrCreate()\n",
    "#inicializa sessão no spark com nome importação"
   ]
  },
  {
   "cell_type": "code",
   "execution_count": 3,
   "id": "b008260e",
   "metadata": {},
   "outputs": [],
   "source": [
    "from pyspark.ml.feature import Normalizer"
   ]
  },
  {
   "cell_type": "code",
   "execution_count": 4,
   "id": "8f584e51",
   "metadata": {},
   "outputs": [
    {
     "name": "stdout",
     "output_type": "stream",
     "text": [
      "+-------+---------+-----------+---------------+----+-----+---------+-----------+-------+-----------+---+\n",
      "|Consumo|Cilindros|Cilindradas|RelEixoTraseiro|Peso|Tempo|TipoMotor|Transmissao|Marchas|Carburadors| HP|\n",
      "+-------+---------+-----------+---------------+----+-----+---------+-----------+-------+-----------+---+\n",
      "|     21|        6|        160|             39| 262| 1646|        0|          1|      4|          4|110|\n",
      "|     21|        6|        160|             39|2875| 1702|        0|          1|      4|          4|110|\n",
      "|    228|        4|        108|            385| 232| 1861|        1|          1|      4|          1| 93|\n",
      "|    214|        6|        258|            308|3215| 1944|        1|          0|      3|          1|110|\n",
      "|    187|        8|        360|            315| 344| 1702|        0|          0|      3|          2|175|\n",
      "+-------+---------+-----------+---------------+----+-----+---------+-----------+-------+-----------+---+\n",
      "only showing top 5 rows\n",
      "\n"
     ]
    }
   ],
   "source": [
    "carros = spark.read.csv(\"Carros.csv\", header=True, inferSchema=True, sep=\";\")\n",
    "carros.show(5)"
   ]
  },
  {
   "cell_type": "code",
   "execution_count": 6,
   "id": "29807d68",
   "metadata": {},
   "outputs": [
    {
     "name": "stdout",
     "output_type": "stream",
     "text": [
      "+-------+---------+-----------+------------------+\n",
      "|Consumo|Cilindros|Cilindradas|            matriz|\n",
      "+-------+---------+-----------+------------------+\n",
      "|     21|        6|        160|  [21.0,6.0,160.0]|\n",
      "|     21|        6|        160|  [21.0,6.0,160.0]|\n",
      "|    228|        4|        108| [228.0,4.0,108.0]|\n",
      "|    214|        6|        258| [214.0,6.0,258.0]|\n",
      "|    187|        8|        360| [187.0,8.0,360.0]|\n",
      "|    181|        6|        225| [181.0,6.0,225.0]|\n",
      "|    143|        8|        360| [143.0,8.0,360.0]|\n",
      "|    244|        4|       1467|[244.0,4.0,1467.0]|\n",
      "|    228|        4|       1408|[228.0,4.0,1408.0]|\n",
      "|    192|        6|       1676|[192.0,6.0,1676.0]|\n",
      "|    178|        6|       1676|[178.0,6.0,1676.0]|\n",
      "|    164|        8|       2758|[164.0,8.0,2758.0]|\n",
      "|    173|        8|       2758|[173.0,8.0,2758.0]|\n",
      "|    152|        8|       2758|[152.0,8.0,2758.0]|\n",
      "|    104|        8|        472| [104.0,8.0,472.0]|\n",
      "|    104|        8|        460| [104.0,8.0,460.0]|\n",
      "|    147|        8|        440| [147.0,8.0,440.0]|\n",
      "|    324|        4|        787| [324.0,4.0,787.0]|\n",
      "|    304|        4|        757| [304.0,4.0,757.0]|\n",
      "|    339|        4|        711| [339.0,4.0,711.0]|\n",
      "+-------+---------+-----------+------------------+\n",
      "only showing top 20 rows\n",
      "\n"
     ]
    }
   ],
   "source": [
    "# Vector Assembler - Criação de coluna com vetor dos atributos\n",
    "\n",
    "from pyspark.ml.feature import VectorAssembler\n",
    "vecassembler = VectorAssembler(inputCols=[\"Consumo\", \"Cilindros\", \"Cilindradas\"], outputCol=\"matriz\")\n",
    "# transform sempre gera um df\n",
    "carros_vetor = vecassembler.transform(carros)\n",
    "carros_vetor.select(\"Consumo\", \"Cilindros\", \"Cilindradas\",\"matriz\").show()"
   ]
  },
  {
   "cell_type": "code",
   "execution_count": 8,
   "id": "02f17cc8",
   "metadata": {},
   "outputs": [
    {
     "name": "stdout",
     "output_type": "stream",
     "text": [
      "+------------------+--------------------------------------------------------------+\n",
      "|matriz            |matriz_normalizada                                            |\n",
      "+------------------+--------------------------------------------------------------+\n",
      "|[21.0,6.0,160.0]  |[0.11229946524064172,0.03208556149732621,0.8556149732620321]  |\n",
      "|[21.0,6.0,160.0]  |[0.11229946524064172,0.03208556149732621,0.8556149732620321]  |\n",
      "|[228.0,4.0,108.0] |[0.6705882352941176,0.011764705882352941,0.3176470588235294]  |\n",
      "|[214.0,6.0,258.0] |[0.4476987447698745,0.012552301255230125,0.5397489539748954]  |\n",
      "|[187.0,8.0,360.0] |[0.33693693693693694,0.014414414414414415,0.6486486486486487] |\n",
      "|[181.0,6.0,225.0] |[0.4393203883495146,0.014563106796116505,0.5461165048543689]  |\n",
      "|[143.0,8.0,360.0] |[0.27984344422700586,0.015655577299412915,0.7045009784735812] |\n",
      "|[244.0,4.0,1467.0]|[0.1422740524781341,0.0023323615160349854,0.8553935860058309] |\n",
      "|[228.0,4.0,1408.0]|[0.13902439024390245,0.0024390243902439024,0.8585365853658536]|\n",
      "|[192.0,6.0,1676.0]|[0.10245464247598719,0.0032017075773745998,0.8943436499466382]|\n",
      "|[178.0,6.0,1676.0]|[0.0956989247311828,0.0032258064516129032,0.9010752688172043] |\n",
      "|[164.0,8.0,2758.0]|[0.05597269624573379,0.0027303754266211604,0.941296928327645] |\n",
      "|[173.0,8.0,2758.0]|[0.058863559033684926,0.0027220142905750254,0.93841442667574] |\n",
      "|[152.0,8.0,2758.0]|[0.0520904729266621,0.0027416038382453737,0.9451679232350926] |\n",
      "|[104.0,8.0,472.0] |[0.1780821917808219,0.0136986301369863,0.8082191780821918]    |\n",
      "|[104.0,8.0,460.0] |[0.18181818181818182,0.013986013986013986,0.8041958041958042] |\n",
      "|[147.0,8.0,440.0] |[0.24705882352941178,0.013445378151260505,0.7394957983193278] |\n",
      "|[324.0,4.0,787.0] |[0.2905829596412556,0.003587443946188341,0.705829596412556]   |\n",
      "|[304.0,4.0,757.0] |[0.28544600938967135,0.003755868544600939,0.7107981220657277] |\n",
      "|[339.0,4.0,711.0] |[0.3216318785578748,0.003795066413662239,0.674573055028463]   |\n",
      "+------------------+--------------------------------------------------------------+\n",
      "only showing top 20 rows\n",
      "\n"
     ]
    }
   ],
   "source": [
    "normalizador = Normalizer(inputCol=\"matriz\" , outputCol=\"matriz_normalizada\", p=1)\n",
    "carrosnorm = normalizador.transform(carros_vetor)\n",
    "carrosnorm.select(\"matriz\", \"matriz_normalizada\").show(truncate=False)"
   ]
  }
 ],
 "metadata": {
  "kernelspec": {
   "display_name": "Python 3 (ipykernel)",
   "language": "python",
   "name": "python3"
  },
  "language_info": {
   "codemirror_mode": {
    "name": "ipython",
    "version": 3
   },
   "file_extension": ".py",
   "mimetype": "text/x-python",
   "name": "python",
   "nbconvert_exporter": "python",
   "pygments_lexer": "ipython3",
   "version": "3.9.7"
  }
 },
 "nbformat": 4,
 "nbformat_minor": 5
}
