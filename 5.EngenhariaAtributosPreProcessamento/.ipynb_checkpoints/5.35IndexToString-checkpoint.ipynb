{
 "cells": [
  {
   "cell_type": "markdown",
   "id": "bc8c2cc4",
   "metadata": {},
   "source": [
    "# IndexToString:\n",
    "\n",
    "- transformação de valor categórico para numérico \n",
    "- De Para do índice para valor original da categoria"
   ]
  },
  {
   "cell_type": "code",
   "execution_count": 2,
   "id": "5b1d7794",
   "metadata": {},
   "outputs": [],
   "source": [
    "#imports\n",
    "\n",
    "import findspark, pyspark\n",
    "from pyspark.sql import SparkSession\n",
    "findspark.init() # inicializa interface pyspark jupyter\n",
    "spark = SparkSession.builder.appName(\"indextostring\").getOrCreate()\n",
    "#inicializa sessão no spark com nome importação"
   ]
  },
  {
   "cell_type": "code",
   "execution_count": 3,
   "id": "b7d79eed",
   "metadata": {},
   "outputs": [],
   "source": [
    "from pyspark.ml.feature import StringIndexer"
   ]
  },
  {
   "cell_type": "code",
   "execution_count": 8,
   "id": "bdeba74b",
   "metadata": {},
   "outputs": [
    {
     "name": "stdout",
     "output_type": "stream",
     "text": [
      "+-----------+---------+------+---+------+--------+-------------+---------+--------------+---------------+------+\n",
      "|CreditScore|Geography|Gender|Age|Tenure|Balance |NumOfProducts|HasCrCard|IsActiveMember|EstimatedSalary|Exited|\n",
      "+-----------+---------+------+---+------+--------+-------------+---------+--------------+---------------+------+\n",
      "|619        |France   |Female|42 |2     |0       |1            |1        |1             |10134888       |1     |\n",
      "|608        |Spain    |Female|41 |1     |8380786 |1            |0        |1             |11254258       |0     |\n",
      "|502        |France   |Female|42 |8     |1596608 |3            |1        |0             |11393157       |1     |\n",
      "|699        |France   |Female|39 |1     |0       |2            |0        |0             |9382663        |0     |\n",
      "|850        |Spain    |Female|43 |2     |12551082|1            |1        |1             |790841         |0     |\n",
      "+-----------+---------+------+---+------+--------+-------------+---------+--------------+---------------+------+\n",
      "only showing top 5 rows\n",
      "\n"
     ]
    }
   ],
   "source": [
    "churn = spark.read.load(\"Churn.csv\", format=\"csv\", sep=\";\", inferSchema=True, header = True)\n",
    "churn.show(5, truncate=False)"
   ]
  },
  {
   "cell_type": "code",
   "execution_count": 5,
   "id": "9575bca6",
   "metadata": {},
   "outputs": [
    {
     "name": "stdout",
     "output_type": "stream",
     "text": [
      "+---------+------+\n",
      "|Geography|indice|\n",
      "+---------+------+\n",
      "|   France|   0.0|\n",
      "|    Spain|   2.0|\n",
      "|   France|   0.0|\n",
      "|   France|   0.0|\n",
      "|    Spain|   2.0|\n",
      "|    Spain|   2.0|\n",
      "|   France|   0.0|\n",
      "|  Germany|   1.0|\n",
      "|   France|   0.0|\n",
      "|   France|   0.0|\n",
      "+---------+------+\n",
      "only showing top 10 rows\n",
      "\n"
     ]
    }
   ],
   "source": [
    "# Transformando a coluna Geography:\n",
    "indice = StringIndexer(inputCol =\"Geography\" , outputCol =\"indice\" ) #(instancia objeto indice)\n",
    "modelo = indice.fit(churn)\n",
    "dadoscomindice = modelo.transform(churn)\n",
    "dadoscomindice.select(\"Geography\", \"indice\").show(10)"
   ]
  },
  {
   "cell_type": "code",
   "execution_count": 11,
   "id": "148135e2",
   "metadata": {},
   "outputs": [
    {
     "name": "stdout",
     "output_type": "stream",
     "text": [
      "+---------+------+--------------+\n",
      "|Geography|indice|categoria_orig|\n",
      "+---------+------+--------------+\n",
      "|   France|   0.0|        France|\n",
      "|    Spain|   2.0|         Spain|\n",
      "|   France|   0.0|        France|\n",
      "|   France|   0.0|        France|\n",
      "|    Spain|   2.0|         Spain|\n",
      "+---------+------+--------------+\n",
      "only showing top 5 rows\n",
      "\n"
     ]
    }
   ],
   "source": [
    "from pyspark.ml.feature import IndexToString\n",
    "retorno = IndexToString(inputCol=\"indice\",outputCol=\"categoria_orig\")\n",
    "convertido = retorno.transform(dadoscomindice)\n",
    "convertido.select(\"Geography\",\"indice\",\"categoria_orig\").show(5)"
   ]
  }
 ],
 "metadata": {
  "kernelspec": {
   "display_name": "Python 3 (ipykernel)",
   "language": "python",
   "name": "python3"
  },
  "language_info": {
   "codemirror_mode": {
    "name": "ipython",
    "version": 3
   },
   "file_extension": ".py",
   "mimetype": "text/x-python",
   "name": "python",
   "nbconvert_exporter": "python",
   "pygments_lexer": "ipython3",
   "version": "3.9.7"
  }
 },
 "nbformat": 4,
 "nbformat_minor": 5
}
