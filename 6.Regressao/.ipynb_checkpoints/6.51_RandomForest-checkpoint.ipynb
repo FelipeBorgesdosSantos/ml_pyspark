{
 "cells": [
  {
   "cell_type": "markdown",
   "id": "d342f2f7",
   "metadata": {},
   "source": [
    "# Árvore de Decisão:\n",
    "\n",
    "- apresenta único nó raiz;\n",
    "- acíclico, informação só flui por um sentido;\n",
    "- grafo direcionado;\n",
    "- único caminho entre cada par nó raiz, e nó folha;\n",
    "- nós folhas levam sempre uma classe binária (\"Sim\" ou \"Não\");\n",
    "- alta explicabilidade sobre o processo de decisão"
   ]
  },
  {
   "cell_type": "markdown",
   "id": "4510c32e",
   "metadata": {},
   "source": [
    " # Métricas de complexidade:\n",
    "- profundidade: número de nós da raiz até a folha (altura da árvore);\n",
    "- largura: número de nós em cada nível (andar)"
   ]
  },
  {
   "cell_type": "markdown",
   "id": "5c043583",
   "metadata": {},
   "source": [
    "# Mecanismo:\n",
    "- Cria divisões o mais \"puras\" possíveis através de uma medida de pureza, como:\n",
    "    * Gini;\n",
    "    * Entropia;\n",
    "    * Erro de Classificação"
   ]
  },
  {
   "cell_type": "markdown",
   "id": "1fc6b1e4",
   "metadata": {},
   "source": [
    "# Condições de Parada:\n",
    "- Quando se chega a classe pura;\n",
    "- Número mínimo de observações em um nó;\n",
    "- A última partição não aumenta a métrica de pureza"
   ]
  },
  {
   "cell_type": "markdown",
   "id": "02c0759b",
   "metadata": {},
   "source": [
    "# Random Forest: \n",
    "\n",
    "- induz diversas árvores de decisão;\n",
    "- executa a processo de classificação para cada árvore;\n",
    "- executa um processo de votação para decisão da classe;\n",
    "- cria conjuntos de dados de treino de forma aleatória, porém com reposição (bootstrap);\n",
    "- do total de atributos da relação, é selecionado um sub conjunto de atributos aleatórios para cada árvore"
   ]
  },
  {
   "cell_type": "markdown",
   "id": "52205f57",
   "metadata": {},
   "source": [
    "# Hiper Parâmetros:\n",
    "- bootstrap: deve ser usado na construção das árvores. (default = True);\n",
    "- maxBins: número máximo de valores na discretização de atributos (default=32);\n",
    "- maxDepth: profundidade máxima da árvore. (default = 5);\n",
    "- num Trees: número de árvores aleatórias que serão treinadas. (defautl = 20);\n",
    "- seed: semente para repetir o processo."
   ]
  },
  {
   "cell_type": "code",
   "execution_count": 1,
   "id": "b5b18f64",
   "metadata": {},
   "outputs": [],
   "source": [
    "# Exemplo de RandomForest:\n",
    "import findspark, pyspark\n",
    "from pyspark.sql import SparkSession\n",
    "findspark.init()\n",
    "spark = SparkSession.builder.appName(\"randomforest\").getOrCreate()"
   ]
  },
  {
   "cell_type": "code",
   "execution_count": 2,
   "id": "9d150c5a",
   "metadata": {},
   "outputs": [
    {
     "name": "stdout",
     "output_type": "stream",
     "text": [
      "+-------+---------+-----------+---------------+----+-----+---------+-----------+-------+-----------+---+\n",
      "|Consumo|Cilindros|Cilindradas|RelEixoTraseiro|Peso|Tempo|TipoMotor|Transmissao|Marchas|Carburadors| HP|\n",
      "+-------+---------+-----------+---------------+----+-----+---------+-----------+-------+-----------+---+\n",
      "|     21|        6|        160|             39| 262| 1646|        0|          1|      4|          4|110|\n",
      "|     21|        6|        160|             39|2875| 1702|        0|          1|      4|          4|110|\n",
      "|    228|        4|        108|            385| 232| 1861|        1|          1|      4|          1| 93|\n",
      "|    214|        6|        258|            308|3215| 1944|        1|          0|      3|          1|110|\n",
      "|    187|        8|        360|            315| 344| 1702|        0|          0|      3|          2|175|\n",
      "+-------+---------+-----------+---------------+----+-----+---------+-----------+-------+-----------+---+\n",
      "only showing top 5 rows\n",
      "\n"
     ]
    }
   ],
   "source": [
    "carros = spark.read.csv(\"Carros.csv\", header=True, inferSchema=True, sep=\";\")\n",
    "carros.show(5)"
   ]
  },
  {
   "cell_type": "code",
   "execution_count": 3,
   "id": "5753a8a5",
   "metadata": {},
   "outputs": [],
   "source": [
    "from pyspark.ml.regression import RandomForestRegressor"
   ]
  },
  {
   "cell_type": "code",
   "execution_count": 4,
   "id": "34e6b64f",
   "metadata": {},
   "outputs": [
    {
     "name": "stdout",
     "output_type": "stream",
     "text": [
      "+-----------------+----------+\n",
      "|independente     |dependente|\n",
      "+-----------------+----------+\n",
      "|[21.0,6.0,160.0] |110.0     |\n",
      "|[21.0,6.0,160.0] |110.0     |\n",
      "|[228.0,4.0,108.0]|93.0      |\n",
      "|[214.0,6.0,258.0]|110.0     |\n",
      "|[187.0,8.0,360.0]|175.0     |\n",
      "+-----------------+----------+\n",
      "only showing top 5 rows\n",
      "\n"
     ]
    }
   ],
   "source": [
    "# Vetorização das variáveis independentes:\n",
    "from pyspark.ml.feature import RFormula\n",
    "Rformula = RFormula(formula=\"HP ~ Consumo + Cilindros + Cilindradas\", featuresCol=\"independente\", labelCol=\"dependente\")\n",
    "carrosrf = Rformula.fit(carros).transform(carros)\n",
    "carrosrf.select(\"independente\",\"dependente\").show(5, truncate=False)"
   ]
  },
  {
   "cell_type": "code",
   "execution_count": 5,
   "id": "fc34cdb8",
   "metadata": {},
   "outputs": [],
   "source": [
    "# Normalização dos atributos - Normalizer:\n",
    "from pyspark.ml.feature import Normalizer\n",
    "normalizador = Normalizer(inputCol=\"independente\", outputCol=\"independentenorm\", p=1.0)\n",
    "carrosnorm = normalizador.transform(carrosrf)"
   ]
  },
  {
   "cell_type": "code",
   "execution_count": 6,
   "id": "b5db2745",
   "metadata": {},
   "outputs": [
    {
     "name": "stdout",
     "output_type": "stream",
     "text": [
      "+-----------------+----------+-------------------------------------------------------------+\n",
      "|independente     |dependente|independentenorm                                             |\n",
      "+-----------------+----------+-------------------------------------------------------------+\n",
      "|[21.0,6.0,160.0] |110.0     |[0.11229946524064172,0.03208556149732621,0.8556149732620321] |\n",
      "|[21.0,6.0,160.0] |110.0     |[0.11229946524064172,0.03208556149732621,0.8556149732620321] |\n",
      "|[228.0,4.0,108.0]|93.0      |[0.6705882352941176,0.011764705882352941,0.3176470588235294] |\n",
      "|[214.0,6.0,258.0]|110.0     |[0.4476987447698745,0.012552301255230125,0.5397489539748954] |\n",
      "|[187.0,8.0,360.0]|175.0     |[0.33693693693693694,0.014414414414414415,0.6486486486486487]|\n",
      "+-----------------+----------+-------------------------------------------------------------+\n",
      "only showing top 5 rows\n",
      "\n"
     ]
    }
   ],
   "source": [
    "carrosnorm.select(\"independente\",\"dependente\",\"independentenorm\").show(5, truncate=False)"
   ]
  },
  {
   "cell_type": "code",
   "execution_count": 7,
   "id": "71c64994",
   "metadata": {},
   "outputs": [
    {
     "data": {
      "text/plain": [
       "32"
      ]
     },
     "execution_count": 7,
     "metadata": {},
     "output_type": "execute_result"
    }
   ],
   "source": [
    "# Total de linhas do dataset:\n",
    "carrosnorm.count()"
   ]
  },
  {
   "cell_type": "code",
   "execution_count": 8,
   "id": "2b4499fd",
   "metadata": {},
   "outputs": [
    {
     "name": "stdout",
     "output_type": "stream",
     "text": [
      "treino: 24\n",
      "teste: 8\n"
     ]
    }
   ],
   "source": [
    "# Split em treino e teste: Processo não determinístico, ou seja aleatório (estocástico) \n",
    "## (valores se atualizam se não #settarmos seed)\n",
    "\n",
    "CarrosTreino, CarrosTeste = carrosnorm.randomSplit([0.7,0.3], seed=1)\n",
    "print(\"treino: \"+str(CarrosTreino.count()))\n",
    "print(\"teste: \"+str(CarrosTeste.count()))"
   ]
  },
  {
   "cell_type": "code",
   "execution_count": 9,
   "id": "18bb15a0",
   "metadata": {},
   "outputs": [],
   "source": [
    "# Aplicando RandomForest:\n",
    "rf = RandomForestRegressor(featuresCol=\"independentenorm\", labelCol=\"dependente\", maxDepth=10, \n",
    "            numTrees = 500, seed=20)\n",
    "modelo = rf.fit(CarrosTreino)"
   ]
  },
  {
   "cell_type": "code",
   "execution_count": 10,
   "id": "dbec4073",
   "metadata": {},
   "outputs": [
    {
     "name": "stdout",
     "output_type": "stream",
     "text": [
      "+----------+------------------+\n",
      "|dependente|        prediction|\n",
      "+----------+------------------+\n",
      "|     215.0|            175.44|\n",
      "|     205.0|            175.44|\n",
      "|     180.0|           158.596|\n",
      "|     180.0|           158.596|\n",
      "|     123.0|           125.568|\n",
      "|     105.0| 167.3863333333333|\n",
      "|     175.0|169.75033333333332|\n",
      "|     113.0|           114.878|\n",
      "+----------+------------------+\n",
      "\n"
     ]
    }
   ],
   "source": [
    "# Criando previsão:\n",
    "previsao = modelo.transform(CarrosTeste)\n",
    "previsao.select(\"dependente\",\"prediction\").show()"
   ]
  },
  {
   "cell_type": "code",
   "execution_count": 11,
   "id": "fa6f4982",
   "metadata": {},
   "outputs": [
    {
     "name": "stdout",
     "output_type": "stream",
     "text": [
      "30.176117889170413\n"
     ]
    }
   ],
   "source": [
    "# Avaliando Performance:\n",
    "from pyspark.ml.evaluation import RegressionEvaluator\n",
    "avaliar = RegressionEvaluator(predictionCol=\"prediction\", labelCol = \"dependente\", metricName=\"rmse\")\n",
    "rmse = avaliar.evaluate(previsao)\n",
    "print(rmse)"
   ]
  }
 ],
 "metadata": {
  "kernelspec": {
   "display_name": "Python 3 (ipykernel)",
   "language": "python",
   "name": "python3"
  },
  "language_info": {
   "codemirror_mode": {
    "name": "ipython",
    "version": 3
   },
   "file_extension": ".py",
   "mimetype": "text/x-python",
   "name": "python",
   "nbconvert_exporter": "python",
   "pygments_lexer": "ipython3",
   "version": "3.9.7"
  }
 },
 "nbformat": 4,
 "nbformat_minor": 5
}
