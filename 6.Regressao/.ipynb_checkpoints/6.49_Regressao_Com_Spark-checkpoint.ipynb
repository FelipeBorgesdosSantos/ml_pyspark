{
 "cells": [
  {
   "cell_type": "markdown",
   "id": "bfe58075",
   "metadata": {},
   "source": [
    "# Regressao Linear:\n",
    "\n",
    "- 1. Importação de dados <br>\n",
    "- 2. Vetorização e transformação dos dados (Rformula) <br>\n",
    "- 3. Dividir em treino e teste usando randomSplit (70/30%) <br>\n",
    "- 4. Criar o modelo com dados de treino <br>\n",
    "- 5. Prever HP usando dados de teste <br>\n",
    "- 6. Avaliar a performance do modelo <br>"
   ]
  },
  {
   "cell_type": "markdown",
   "id": "53b74b3f",
   "metadata": {},
   "source": [
    "# Hiper Parâmetros\n",
    "- loss: função de perda, squaredError, huber. (padrão: squared error)\n",
    "- maxIer: número máximo de iterações (padrão: 100)\n",
    "- standardization: define se os dados devem ser padronizados antes de criar o modelo. (padrão: true)"
   ]
  },
  {
   "cell_type": "code",
   "execution_count": 6,
   "id": "5dc20b48",
   "metadata": {},
   "outputs": [],
   "source": [
    "import findspark, pyspark\n",
    "from pyspark.sql import SparkSession\n",
    "findspark.init()\n",
    "spark = SparkSession.builder.appName(\"aunivariatefeatureselector\").getOrCreate()"
   ]
  },
  {
   "cell_type": "code",
   "execution_count": 7,
   "id": "6fe03311",
   "metadata": {},
   "outputs": [],
   "source": [
    "from pyspark.ml.feature import UnivariateFeatureSelector"
   ]
  },
  {
   "cell_type": "code",
   "execution_count": 10,
   "id": "0fc05439",
   "metadata": {},
   "outputs": [
    {
     "name": "stdout",
     "output_type": "stream",
     "text": [
      "32\n",
      "+-------+---------+-----------+---------------+----+-----+---------+-----------+-------+-----------+---+\n",
      "|Consumo|Cilindros|Cilindradas|RelEixoTraseiro|Peso|Tempo|TipoMotor|Transmissao|Marchas|Carburadors| HP|\n",
      "+-------+---------+-----------+---------------+----+-----+---------+-----------+-------+-----------+---+\n",
      "|     21|        6|        160|             39| 262| 1646|        0|          1|      4|          4|110|\n",
      "|     21|        6|        160|             39|2875| 1702|        0|          1|      4|          4|110|\n",
      "|    228|        4|        108|            385| 232| 1861|        1|          1|      4|          1| 93|\n",
      "|    214|        6|        258|            308|3215| 1944|        1|          0|      3|          1|110|\n",
      "|    187|        8|        360|            315| 344| 1702|        0|          0|      3|          2|175|\n",
      "+-------+---------+-----------+---------------+----+-----+---------+-----------+-------+-----------+---+\n",
      "only showing top 5 rows\n",
      "\n"
     ]
    }
   ],
   "source": [
    "carros = spark.read.csv(\"Carros.csv\", header=True, inferSchema= True, sep=\";\")\n",
    "print(carros.count())\n",
    "carros.show(5)"
   ]
  },
  {
   "cell_type": "code",
   "execution_count": 27,
   "id": "ca40d85b",
   "metadata": {},
   "outputs": [
    {
     "data": {
      "text/plain": [
       "DataFrame[Consumo: int, Cilindros: int, Cilindradas: int, RelEixoTraseiro: int, Peso: int, Tempo: int, TipoMotor: int, Transmissao: int, Marchas: int, Carburadors: int, HP: int]"
      ]
     },
     "execution_count": 27,
     "metadata": {},
     "output_type": "execute_result"
    }
   ],
   "source": [
    "carros"
   ]
  },
  {
   "cell_type": "code",
   "execution_count": 32,
   "id": "f26c3f51",
   "metadata": {},
   "outputs": [],
   "source": [
    "from pyspark.ml.feature import RFormula"
   ]
  },
  {
   "cell_type": "code",
   "execution_count": 34,
   "id": "6a36732e",
   "metadata": {},
   "outputs": [
    {
     "name": "stdout",
     "output_type": "stream",
     "text": [
      "+-----------------+----------+\n",
      "|independente     |dependente|\n",
      "+-----------------+----------+\n",
      "|[21.0,6.0,160.0] |110.0     |\n",
      "|[21.0,6.0,160.0] |110.0     |\n",
      "|[228.0,4.0,108.0]|93.0      |\n",
      "|[214.0,6.0,258.0]|110.0     |\n",
      "|[187.0,8.0,360.0]|175.0     |\n",
      "+-----------------+----------+\n",
      "only showing top 5 rows\n",
      "\n"
     ]
    }
   ],
   "source": [
    "# Padrão de RFormula:\n",
    "Rformula = RFormula(formula=\"HP ~Consumo + Cilindros + Cilindradas\", featuresCol = \"independente\", labelCol=\"dependente\")\n",
    "carrosrf = Rformula.fit(carros).transform(carros)\n",
    "carrosrf.select(\"independente\",\"dependente\").show(5,truncate=False)"
   ]
  },
  {
   "cell_type": "code",
   "execution_count": 43,
   "id": "4800aa7a",
   "metadata": {},
   "outputs": [
    {
     "name": "stdout",
     "output_type": "stream",
     "text": [
      "treino: 27 teste: 5\n"
     ]
    }
   ],
   "source": [
    "# Cria treino (80%) e teste (20%): retorna 2 datasets\n",
    "CarrosTreino, CarrosTeste = carrosrf.randomSplit([0.8,0.2])\n",
    "print(\"treino: \"+ str(CarrosTreino.count()), \"teste: \" + str(CarrosTeste.count()))"
   ]
  },
  {
   "cell_type": "code",
   "execution_count": 48,
   "id": "75f4076a",
   "metadata": {},
   "outputs": [],
   "source": [
    "# Instancia e treino o modelo:\n",
    "from pyspark.ml.regression import LinearRegression\n",
    "reglin = LinearRegression(featuresCol=\"independente\", labelCol=\"dependente\", maxIter=1000, loss=\"squaredError\", standardization =True)\n",
    "modelo = reglin.fit(CarrosTreino)"
   ]
  },
  {
   "cell_type": "code",
   "execution_count": 49,
   "id": "abbdf955",
   "metadata": {},
   "outputs": [
    {
     "name": "stdout",
     "output_type": "stream",
     "text": [
      "+------------------+----------+-----------------+\n",
      "|      independente|dependente|       prediction|\n",
      "+------------------+----------+-----------------+\n",
      "| [158.0,8.0,351.0]|     264.0|201.9704831766577|\n",
      "|[178.0,6.0,1676.0]|     123.0|133.2057757161964|\n",
      "| [214.0,6.0,258.0]|     110.0|138.2532609660231|\n",
      "|[244.0,4.0,1467.0]|      62.0|68.97976682219776|\n",
      "| [304.0,4.0,951.0]|     113.0| 64.6893007046315|\n",
      "+------------------+----------+-----------------+\n",
      "\n"
     ]
    }
   ],
   "source": [
    "#Previsao:\n",
    "previsao = modelo.transform(CarrosTeste)\n",
    "previsao.select(\"independente\", \"dependente\", \"prediction\").show()"
   ]
  },
  {
   "cell_type": "code",
   "execution_count": 51,
   "id": "27d07745",
   "metadata": {},
   "outputs": [],
   "source": [
    "from pyspark.ml.evaluation import RegressionEvaluator"
   ]
  },
  {
   "cell_type": "code",
   "execution_count": 54,
   "id": "295e8767",
   "metadata": {},
   "outputs": [
    {
     "name": "stdout",
     "output_type": "stream",
     "text": [
      "37.76958136336855\n"
     ]
    }
   ],
   "source": [
    "avaliar = RegressionEvaluator(labelCol=\"dependente\", predictionCol=\"prediction\", metricName=\"rmse\") #col original, previsão e métrica\n",
    "rmse = avaliar.evaluate(previsao)\n",
    "print(rmse)\n",
    "# rmse: potência da diferença entre ((yprev - yreal)^1/2)/N > quanto menor, melhor (perfeito = 0)"
   ]
  }
 ],
 "metadata": {
  "kernelspec": {
   "display_name": "Python 3 (ipykernel)",
   "language": "python",
   "name": "python3"
  },
  "language_info": {
   "codemirror_mode": {
    "name": "ipython",
    "version": 3
   },
   "file_extension": ".py",
   "mimetype": "text/x-python",
   "name": "python",
   "nbconvert_exporter": "python",
   "pygments_lexer": "ipython3",
   "version": "3.9.7"
  }
 },
 "nbformat": 4,
 "nbformat_minor": 5
}
