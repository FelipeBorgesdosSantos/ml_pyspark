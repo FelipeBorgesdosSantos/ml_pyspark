{
 "cells": [
  {
   "cell_type": "markdown",
   "id": "ee88d2f2",
   "metadata": {},
   "source": [
    "# Regressão Linear Generalizada:\n",
    "\n",
    "Tipos:\n",
    "- 1. Gaussiano > Contínuo\n",
    "- 2. Binomial > Binário\n",
    "- 3. Poisson > Discreto\n",
    "-4. Gamma - Dados Contínuos"
   ]
  },
  {
   "cell_type": "markdown",
   "id": "2ffcf477",
   "metadata": {},
   "source": [
    "# Hiper Parâmetros:\n",
    "\n",
    "- link: define a função de link: identidade, log, inverse, logit, probit, cloglog e sqrt\n",
    "- maxiter: número máximo de iterações (default=100)\n",
    "- regParam: índice de regularização (default=0)"
   ]
  },
  {
   "cell_type": "code",
   "execution_count": 1,
   "id": "6e2f3c8d",
   "metadata": {},
   "outputs": [],
   "source": [
    "import findspark, pyspark\n",
    "from pyspark.sql import SparkSession\n",
    "findspark.init()\n",
    "spark = SparkSession.builder.appName(\"generalized\").getOrCreate()"
   ]
  },
  {
   "cell_type": "code",
   "execution_count": 2,
   "id": "9c613ccb",
   "metadata": {},
   "outputs": [
    {
     "name": "stdout",
     "output_type": "stream",
     "text": [
      "+-------+---------+-----------+---------------+----+-----+---------+-----------+-------+-----------+---+\n",
      "|Consumo|Cilindros|Cilindradas|RelEixoTraseiro|Peso|Tempo|TipoMotor|Transmissao|Marchas|Carburadors| HP|\n",
      "+-------+---------+-----------+---------------+----+-----+---------+-----------+-------+-----------+---+\n",
      "|     21|        6|        160|             39| 262| 1646|        0|          1|      4|          4|110|\n",
      "|     21|        6|        160|             39|2875| 1702|        0|          1|      4|          4|110|\n",
      "|    228|        4|        108|            385| 232| 1861|        1|          1|      4|          1| 93|\n",
      "|    214|        6|        258|            308|3215| 1944|        1|          0|      3|          1|110|\n",
      "|    187|        8|        360|            315| 344| 1702|        0|          0|      3|          2|175|\n",
      "+-------+---------+-----------+---------------+----+-----+---------+-----------+-------+-----------+---+\n",
      "only showing top 5 rows\n",
      "\n"
     ]
    }
   ],
   "source": [
    "carros = spark.read.csv(\"Carros.csv\", header=True, inferSchema= True, sep=\";\")\n",
    "carros.show(5)"
   ]
  },
  {
   "cell_type": "code",
   "execution_count": 3,
   "id": "be41ff15",
   "metadata": {},
   "outputs": [
    {
     "name": "stdout",
     "output_type": "stream",
     "text": [
      "+-----------------+----------+\n",
      "|independente     |dependente|\n",
      "+-----------------+----------+\n",
      "|[21.0,6.0,160.0] |110.0     |\n",
      "|[21.0,6.0,160.0] |110.0     |\n",
      "|[228.0,4.0,108.0]|93.0      |\n",
      "|[214.0,6.0,258.0]|110.0     |\n",
      "|[187.0,8.0,360.0]|175.0     |\n",
      "+-----------------+----------+\n",
      "only showing top 5 rows\n",
      "\n"
     ]
    }
   ],
   "source": [
    "from pyspark.ml.feature import RFormula\n",
    "# Padrão de RFormula:\n",
    "Rformula = RFormula(formula=\"HP ~Consumo + Cilindros + Cilindradas\", featuresCol = \"independente\", labelCol=\"dependente\")\n",
    "carrosrf = Rformula.fit(carros).transform(carros)\n",
    "carrosrf.select(\"independente\",\"dependente\").show(5,truncate=False)"
   ]
  },
  {
   "cell_type": "code",
   "execution_count": 4,
   "id": "8032ddb8",
   "metadata": {},
   "outputs": [
    {
     "name": "stdout",
     "output_type": "stream",
     "text": [
      "treino: 22 teste: 10\n"
     ]
    }
   ],
   "source": [
    "# Cria treino (80%) e teste (20%): retorna 2 datasets\n",
    "CarrosTreino, CarrosTeste = carrosrf.randomSplit([0.7,0.3])\n",
    "print(\"treino: \"+ str(CarrosTreino.count()), \"teste: \" + str(CarrosTeste.count()))"
   ]
  },
  {
   "cell_type": "code",
   "execution_count": 5,
   "id": "8472fe47",
   "metadata": {},
   "outputs": [],
   "source": [
    "from pyspark.ml.regression import GeneralizedLinearRegression\n",
    "geral = GeneralizedLinearRegression(family=\"gaussian\",featuresCol=\"independente\", \n",
    "                                    labelCol=\"dependente\", link=\"identity\", maxIter = 1000, \n",
    "                                    regParam=0.08)\n",
    "modelo = geral.fit(CarrosTreino)"
   ]
  },
  {
   "cell_type": "code",
   "execution_count": 6,
   "id": "19c835ff",
   "metadata": {},
   "outputs": [
    {
     "name": "stdout",
     "output_type": "stream",
     "text": [
      "+------------------+----------+------------------+\n",
      "|      independente|dependente|        prediction|\n",
      "+------------------+----------+------------------+\n",
      "| [147.0,8.0,440.0]|     230.0|210.84287383486287|\n",
      "|[173.0,8.0,2758.0]|     180.0|186.31865262537025|\n",
      "| [181.0,6.0,225.0]|     105.0|145.93398773654377|\n",
      "| [192.0,8.0,400.0]|     175.0|206.70332169830618|\n",
      "| [214.0,4.0,121.0]|     109.0| 80.07611932427696|\n",
      "| [214.0,6.0,258.0]|     110.0|142.30902707310548|\n",
      "| [228.0,4.0,108.0]|      93.0| 78.79351079055644|\n",
      "|  [273.0,4.0,79.0]|      66.0| 74.54996646047684|\n",
      "| [304.0,4.0,951.0]|     113.0| 63.19402449608255|\n",
      "| [339.0,4.0,711.0]|      65.0| 61.94917408505525|\n",
      "+------------------+----------+------------------+\n",
      "\n"
     ]
    }
   ],
   "source": [
    "previsao = modelo.transform(CarrosTeste)\n",
    "previsao.select(\"independente\",\"dependente\",\"prediction\").show()"
   ]
  },
  {
   "cell_type": "code",
   "execution_count": 7,
   "id": "03c04fc4",
   "metadata": {},
   "outputs": [
    {
     "name": "stdout",
     "output_type": "stream",
     "text": [
      "27.80817490087484\n"
     ]
    }
   ],
   "source": [
    "from pyspark.ml.evaluation import RegressionEvaluator\n",
    "avaliar = RegressionEvaluator(labelCol=\"dependente\", predictionCol=\"prediction\", metricName=\"rmse\") #col original, previsão e métrica\n",
    "rmse = avaliar.evaluate(previsao)\n",
    "print(rmse)"
   ]
  }
 ],
 "metadata": {
  "kernelspec": {
   "display_name": "Python 3 (ipykernel)",
   "language": "python",
   "name": "python3"
  },
  "language_info": {
   "codemirror_mode": {
    "name": "ipython",
    "version": 3
   },
   "file_extension": ".py",
   "mimetype": "text/x-python",
   "name": "python",
   "nbconvert_exporter": "python",
   "pygments_lexer": "ipython3",
   "version": "3.9.7"
  }
 },
 "nbformat": 4,
 "nbformat_minor": 5
}
